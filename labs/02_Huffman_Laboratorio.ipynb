{
 "cells": [
  {
   "cell_type": "code",
   "execution_count": 124,
   "metadata": {
    "execution": {
     "iopub.execute_input": "2021-02-26T10:11:41.061261Z",
     "iopub.status.busy": "2021-02-26T10:11:41.060889Z",
     "iopub.status.idle": "2021-02-26T10:11:41.065879Z",
     "shell.execute_reply": "2021-02-26T10:11:41.064770Z",
     "shell.execute_reply.started": "2021-02-26T10:11:41.061223Z"
    }
   },
   "outputs": [],
   "source": [
    "\n",
    "import time\n",
    "import random\n",
    "import itertools\n",
    "import math\n",
    "from queue import PriorityQueue"
   ]
  },
  {
   "cell_type": "markdown",
   "metadata": {},
   "source": [
    "**Definir una función** `LongitudMedia(C,p)` **que dado un código $C$ y una distribución de probabilidades $p$ devuelva la longitud media $\\tilde l$ del código**."
   ]
  },
  {
   "cell_type": "code",
   "execution_count": 4,
   "metadata": {
    "execution": {
     "iopub.execute_input": "2021-02-26T10:09:43.529934Z",
     "iopub.status.busy": "2021-02-26T10:09:43.529700Z",
     "iopub.status.idle": "2021-02-26T10:09:43.533787Z",
     "shell.execute_reply": "2021-02-26T10:09:43.533115Z",
     "shell.execute_reply.started": "2021-02-26T10:09:43.529904Z"
    }
   },
   "outputs": [],
   "source": [
    "def LongitudMedia(C,p):\n",
    "    l = 0\n",
    "    for i in range(len(C)):\n",
    "        l += len(C[i])*p[i] \n",
    "    return l "
   ]
  },
  {
   "cell_type": "markdown",
   "metadata": {},
   "source": [
    "**Definir una función** `Huffman(p)` **que dada una distribución de probabilidades $p$ devuelva** ***UN*** **código de Huffman asociado a dicha la distribución de probabilidades**."
   ]
  },
  {
   "cell_type": "code",
   "execution_count": 61,
   "metadata": {
    "execution": {
     "iopub.execute_input": "2021-02-26T11:16:56.317965Z",
     "iopub.status.busy": "2021-02-26T11:16:56.317634Z",
     "iopub.status.idle": "2021-02-26T11:16:56.322355Z",
     "shell.execute_reply": "2021-02-26T11:16:56.321460Z",
     "shell.execute_reply.started": "2021-02-26T11:16:56.317930Z"
    }
   },
   "outputs": [],
   "source": [
    "def Huffman(p,debug=False):\n",
    "    \n",
    "    q = PriorityQueue()\n",
    "\n",
    "    for i in range(len(p)):\n",
    "        q.put(node(p[i]))\n",
    "    res = None\n",
    "    while q.qsize()>1:\n",
    "        p1 = q.get()\n",
    "        p2 = q.get()\n",
    "\n",
    "        R = node(p1.x+p2.x,p1,p2)\n",
    "\n",
    "        q.put(R)\n",
    "\n",
    "        if(q.qsize()==1): \n",
    "            res = R\n",
    "\n",
    "    \n",
    "    return res.PrintTree()\n",
    "\n",
    "def HuffmanChar(p,c,debug=False):\n",
    "    \n",
    "    q = PriorityQueue()\n",
    "\n",
    "    for i in range(len(p)):\n",
    "        q.put(node(p[i],char=c[i]))\n",
    "    res = None\n",
    "    while q.qsize()>1:\n",
    "        p1 = q.get()\n",
    "        p2 = q.get()\n",
    "\n",
    "        R = node(p1.x+p2.x,p1,p2)\n",
    "\n",
    "        q.put(R)\n",
    "\n",
    "        if(q.qsize()==1): \n",
    "            res = R\n",
    "\n",
    "    \n",
    "    return res.PrintTree()\n"
   ]
  },
  {
   "cell_type": "code",
   "execution_count": 56,
   "metadata": {},
   "outputs": [],
   "source": [
    "class node:\n",
    "    def __init__(self, data, right=None, left=None, char = \"\"):\n",
    "        self.right = right\n",
    "        self.left = left\n",
    "        self.x = data\n",
    "        self.y = char\n",
    "        \n",
    "    def __lt__(self,othr):\n",
    "        if self.x < othr.x:\n",
    "            return True\n",
    "        else:\n",
    "            return False\n",
    "        \n",
    "    def __gt__(self,othr):\n",
    "        if self.x > othr.x:\n",
    "            return True\n",
    "        else:\n",
    "            return false\n",
    "    def __le__(self,othr):\n",
    "        if self.x <= othr.x:\n",
    "            return True\n",
    "        else:\n",
    "            return False\n",
    "    def __ge__(self,othr):\n",
    "        if self.x >= othr.x:\n",
    "            return True\n",
    "        else:\n",
    "            return False\n",
    "    def __eq__(self,othr):\n",
    "        if self.x == othr.x:\n",
    "            return True\n",
    "        else:\n",
    "            return False    \n",
    "        \n",
    "    def PrintTree(self):\n",
    "  \n",
    "        sl = []\n",
    "        sr = []\n",
    "        if self.left:\n",
    "            sl = self.left.PrintTree()\n",
    "        if self.right:\n",
    "            sr = self.right.PrintTree()\n",
    "    \n",
    "        if not self.right or not self.left:\n",
    "            return [(\"\",self.x, self.y)] \n",
    "        else: \n",
    "            return [(\"0\"+x[0],x[1],x[2]) for x in sl] + [(\"1\"+x[0],x[1],x[2]) for x in sr]\n",
    "\n"
   ]
  },
  {
   "cell_type": "code",
   "execution_count": 20,
   "metadata": {},
   "outputs": [],
   "source": []
  },
  {
   "cell_type": "code",
   "execution_count": null,
   "metadata": {},
   "outputs": [],
   "source": []
  },
  {
   "cell_type": "code",
   "execution_count": 57,
   "metadata": {
    "scrolled": true
   },
   "outputs": [],
   "source": [
    "p = [4/79, 12/79, 16/79, 22/79, 25/79]\n",
    "\n",
    "q = PriorityQueue()\n",
    "\n",
    "for i in range(len(p)):\n",
    "    q.put(node(p[i]))\n",
    "res = None\n",
    "while q.qsize()>1:\n",
    "    p1 = q.get()\n",
    "    p2 = q.get()\n",
    "    \n",
    "    R = node(p1.x+p2.x,p1,p2)\n",
    "    \n",
    "    q.put(R)\n",
    "\n",
    "    if(q.qsize()==1): \n",
    "        res = R"
   ]
  },
  {
   "cell_type": "code",
   "execution_count": 58,
   "metadata": {},
   "outputs": [
    {
     "data": {
      "text/plain": [
       "[('00', 0.31645569620253167, ''),\n",
       " ('01', 0.27848101265822783, ''),\n",
       " ('100', 0.1518987341772152, ''),\n",
       " ('101', 0.05063291139240506, ''),\n",
       " ('11', 0.20253164556962025, '')]"
      ]
     },
     "execution_count": 58,
     "metadata": {},
     "output_type": "execute_result"
    }
   ],
   "source": [
    "res.PrintTree()"
   ]
  },
  {
   "cell_type": "markdown",
   "metadata": {},
   "source": [
    "### Ejemplos"
   ]
  },
  {
   "cell_type": "code",
   "execution_count": 63,
   "metadata": {
    "execution": {
     "iopub.execute_input": "2021-02-26T11:20:18.672623Z",
     "iopub.status.busy": "2021-02-26T11:20:18.671932Z",
     "iopub.status.idle": "2021-02-26T11:20:18.682827Z",
     "shell.execute_reply": "2021-02-26T11:20:18.681329Z",
     "shell.execute_reply.started": "2021-02-26T11:20:18.672539Z"
    }
   },
   "outputs": [
    {
     "name": "stdout",
     "output_type": "stream",
     "text": [
      "[['c', 0.2, '000'], ['f', 0.05, '0010'], ['e', 0.05, '0011'], ['d', 0.1, '010'], ['b', 0.1, '011'], ['a', 0.5, '1']] \n",
      "\n",
      "Longitud Media: 2.1\n"
     ]
    }
   ],
   "source": [
    "p=[0.5,0.1,0.2,0.1,0.05,0.05]\n",
    "c = ['a','b','c','d','e','f']\n",
    "\n",
    "codigo=HuffmanChar(p,c)\n",
    "print([[i[2],i[1],i[0]] for i in codigo], '\\n\\nLongitud Media:',LongitudMedia([i[0] for i in codigo], [i[1] for i in codigo]))\n"
   ]
  },
  {
   "cell_type": "code",
   "execution_count": 40,
   "metadata": {
    "execution": {
     "iopub.execute_input": "2021-02-26T10:26:57.287800Z",
     "iopub.status.busy": "2021-02-26T10:26:57.287405Z",
     "iopub.status.idle": "2021-02-26T10:26:57.295659Z",
     "shell.execute_reply": "2021-02-26T10:26:57.294609Z",
     "shell.execute_reply.started": "2021-02-26T10:26:57.287760Z"
    }
   },
   "outputs": [
    {
     "name": "stdout",
     "output_type": "stream",
     "text": [
      "[0.8, 0.1, 0.05, 0.05]\n",
      "[[0.8, '0'], [0.05, '100'], [0.05, '101'], [0.1, '11']] \n",
      "\n",
      "Longitud Media: 1.3\n"
     ]
    }
   ],
   "source": [
    "p=[0.8,0.1,0.05,0.05]\n",
    "codigo=Huffman(p)\n",
    "print(p)\n",
    "print([[i[1],i[0]] for i in codigo], '\\n\\nLongitud Media:',LongitudMedia([i[0] for i in codigo], [i[1] for i in codigo]))\n",
    "\n"
   ]
  },
  {
   "cell_type": "code",
   "execution_count": 41,
   "metadata": {
    "execution": {
     "iopub.execute_input": "2021-02-26T10:27:14.843152Z",
     "iopub.status.busy": "2021-02-26T10:27:14.842573Z",
     "iopub.status.idle": "2021-02-26T10:27:14.853687Z",
     "shell.execute_reply": "2021-02-26T10:27:14.852532Z",
     "shell.execute_reply.started": "2021-02-26T10:27:14.843084Z"
    }
   },
   "outputs": [
    {
     "name": "stdout",
     "output_type": "stream",
     "text": [
      "[0.5, 0.25, 0.1, 0.05, 0.05, 0.05]\n",
      "[[0.1, '0000'], [0.05, '0001'], [0.05, '0010'], [0.05, '0011'], [0.25, '01'], [0.5, '1']] \n",
      "\n",
      "Longitud Media: 2.0\n"
     ]
    }
   ],
   "source": [
    "p=[0.5,0.25,0.1,0.05,0.05,0.05]\n",
    "codigo=Huffman(p)\n",
    "print(p)\n",
    "print([[i[1],i[0]] for i in codigo], '\\n\\nLongitud Media:',LongitudMedia([i[0] for i in codigo], [i[1] for i in codigo]))\n",
    "\n"
   ]
  },
  {
   "cell_type": "code",
   "execution_count": 112,
   "metadata": {
    "execution": {
     "iopub.execute_input": "2021-02-26T10:27:40.866391Z",
     "iopub.status.busy": "2021-02-26T10:27:40.865851Z",
     "iopub.status.idle": "2021-02-26T10:27:40.878180Z",
     "shell.execute_reply": "2021-02-26T10:27:40.877023Z",
     "shell.execute_reply.started": "2021-02-26T10:27:40.866330Z"
    }
   },
   "outputs": [
    {
     "name": "stdout",
     "output_type": "stream",
     "text": [
      "[[0.094, '0000'], [0.053, '00010'], [0.032, '00011'], [0.1496, '001'], [0.078, '0100'], [0.056, '0101'], [0.114, '011'], [0.055, '1000'], [0.03, '10010'], [0.0081, '1001100'], [0.0075, '1001101'], [0.0088, '100111'], [0.106, '101'], [0.106, '110'], [0.102, '111']] \n",
      "\n",
      "Longitud Media: 3.601800000000001\n"
     ]
    }
   ],
   "source": [
    "p=[0.102, 0.106, 0.053, 0.114, 0.0081, 0.106, 0.0088, 0.030, 0.056, 0.055, 0.032, 0.094, 0.0075, 0.078, 0.1496]\n",
    "codigo=Huffman(p)\n",
    "print([[i[1],i[0]] for i in codigo], '\\n\\nLongitud Media:',LongitudMedia([i[0] for i in codigo], [i[1] for i in codigo]))\n",
    "\n",
    "\n"
   ]
  },
  {
   "cell_type": "code",
   "execution_count": 53,
   "metadata": {
    "execution": {
     "iopub.execute_input": "2021-02-26T10:30:20.544826Z",
     "iopub.status.busy": "2021-02-26T10:30:20.544499Z",
     "iopub.status.idle": "2021-02-26T10:30:20.553961Z",
     "shell.execute_reply": "2021-02-26T10:30:20.553359Z",
     "shell.execute_reply.started": "2021-02-26T10:30:20.544792Z"
    }
   },
   "outputs": [
    {
     "name": "stdout",
     "output_type": "stream",
     "text": [
      "[(0.0078125, '0000000'), (0.0078125, '0000001'), (0.0078125, '0000010'), (0.0078125, '0000011'), (0.0078125, '0000100'), (0.0078125, '0000101'), (0.0078125, '0000110'), (0.0078125, '0000111'), (0.0078125, '0001000'), (0.0078125, '0001001'), (0.0078125, '0001010'), (0.0078125, '0001011'), (0.0078125, '0001100'), (0.0078125, '0001101'), (0.0078125, '0001110'), (0.0078125, '0001111'), (0.0078125, '0010000'), (0.0078125, '0010001'), (0.0078125, '0010010'), (0.0078125, '0010011'), (0.0078125, '0010100'), (0.0078125, '0010101'), (0.0078125, '0010110'), (0.0078125, '0010111'), (0.0078125, '0011000'), (0.0078125, '0011001'), (0.0078125, '0011010'), (0.0078125, '0011011'), (0.0078125, '0011100'), (0.0078125, '0011101'), (0.0078125, '0011110'), (0.0078125, '0011111'), (0.0078125, '0100000'), (0.0078125, '0100001'), (0.0078125, '0100010'), (0.0078125, '0100011'), (0.0078125, '0100100'), (0.0078125, '0100101'), (0.0078125, '0100110'), (0.0078125, '0100111'), (0.0078125, '0101000'), (0.0078125, '0101001'), (0.0078125, '0101010'), (0.0078125, '0101011'), (0.0078125, '0101100'), (0.0078125, '0101101'), (0.0078125, '0101110'), (0.0078125, '0101111'), (0.0078125, '0110000'), (0.0078125, '0110001'), (0.0078125, '0110010'), (0.0078125, '0110011'), (0.0078125, '0110100'), (0.0078125, '0110101'), (0.0078125, '0110110'), (0.0078125, '0110111'), (0.0078125, '0111000'), (0.0078125, '0111001'), (0.0078125, '0111010'), (0.0078125, '0111011'), (0.0078125, '0111100'), (0.0078125, '0111101'), (0.0078125, '0111110'), (0.0078125, '0111111'), (0.0078125, '1000000'), (0.0078125, '1000001'), (0.0078125, '1000010'), (0.0078125, '1000011'), (0.0078125, '1000100'), (0.0078125, '1000101'), (0.0078125, '1000110'), (0.0078125, '1000111'), (0.0078125, '1001000'), (0.0078125, '1001001'), (0.0078125, '1001010'), (0.0078125, '1001011'), (0.0078125, '1001100'), (0.0078125, '1001101'), (0.0078125, '1001110'), (0.0078125, '1001111'), (0.0078125, '1010000'), (0.0078125, '1010001'), (0.0078125, '1010010'), (0.0078125, '1010011'), (0.0078125, '1010100'), (0.0078125, '1010101'), (0.0078125, '1010110'), (0.0078125, '1010111'), (0.0078125, '1011000'), (0.0078125, '1011001'), (0.0078125, '1011010'), (0.0078125, '1011011'), (0.0078125, '1011100'), (0.0078125, '1011101'), (0.0078125, '1011110'), (0.0078125, '1011111'), (0.0078125, '1100000'), (0.0078125, '1100001'), (0.0078125, '1100010'), (0.0078125, '1100011'), (0.0078125, '1100100'), (0.0078125, '1100101'), (0.0078125, '1100110'), (0.0078125, '1100111'), (0.0078125, '1101000'), (0.0078125, '1101001'), (0.0078125, '1101010'), (0.0078125, '1101011'), (0.0078125, '1101100'), (0.0078125, '1101101'), (0.0078125, '1101110'), (0.0078125, '1101111'), (0.0078125, '1110000'), (0.0078125, '1110001'), (0.0078125, '1110010'), (0.0078125, '1110011'), (0.0078125, '1110100'), (0.0078125, '1110101'), (0.0078125, '1110110'), (0.0078125, '1110111'), (0.0078125, '1111000'), (0.0078125, '1111001'), (0.0078125, '1111010'), (0.0078125, '1111011'), (0.0078125, '1111100'), (0.0078125, '1111101'), (0.0078125, '1111110'), (0.0078125, '1111111')] \n",
      "\n",
      "Longitud Media: 7.0\n"
     ]
    }
   ],
   "source": [
    "n=2**7\n",
    "p=[1/n for _ in range(n)]\n",
    "\n",
    "codigo=Huffman(p)\n",
    "print([(i[1],i[0]) for i in codigo], '\\n\\nLongitud Media:',LongitudMedia([i[0] for i in codigo], [i[1] for i in codigo]))\n",
    "\n"
   ]
  },
  {
   "cell_type": "markdown",
   "metadata": {},
   "source": [
    "**Definir una función** `tablaFrecuencias(mensaje, numero_de_simbolos=1)` **que dado un mensaje $M$ devuelva una tabla con la frecuencia de cada tupla de** `numero_de_simbolos` **símbolos del mensaje**."
   ]
  },
  {
   "cell_type": "code",
   "execution_count": 54,
   "metadata": {
    "execution": {
     "iopub.execute_input": "2021-02-26T10:35:38.741736Z",
     "iopub.status.busy": "2021-02-26T10:35:38.741561Z",
     "iopub.status.idle": "2021-02-26T10:35:38.748054Z",
     "shell.execute_reply": "2021-02-26T10:35:38.747523Z",
     "shell.execute_reply.started": "2021-02-26T10:35:38.741718Z"
    }
   },
   "outputs": [],
   "source": [
    "\n",
    "\n",
    "def tablaFrecuencias(mensaje,numero_de_simbolos=1):\n",
    "\n",
    "    size = len(mensaje)\n",
    "    frecuencias = []\n",
    "    rep = []\n",
    "    for elem in mensaje:\n",
    "        if(elem not in rep):\n",
    "            rep.append(elem)\n",
    "            count = 0;\n",
    "            for elem2 in mensaje:\n",
    "                if elem == elem2: \n",
    "                    count += 1\n",
    "            frecuencias.append((elem,count))\n",
    "    \n",
    "    return frecuencias\n"
   ]
  },
  {
   "cell_type": "markdown",
   "metadata": {
    "execution": {
     "iopub.execute_input": "2021-02-25T13:35:14.825365Z",
     "iopub.status.busy": "2021-02-25T13:35:14.824975Z",
     "iopub.status.idle": "2021-02-25T13:35:14.833937Z",
     "shell.execute_reply": "2021-02-25T13:35:14.832972Z",
     "shell.execute_reply.started": "2021-02-25T13:35:14.825324Z"
    }
   },
   "source": [
    "### Ejemplos de como cambian las frecuencias según la _fuente_ $S$"
   ]
  },
  {
   "cell_type": "code",
   "execution_count": 174,
   "metadata": {
    "execution": {
     "iopub.execute_input": "2021-02-26T10:37:02.770074Z",
     "iopub.status.busy": "2021-02-26T10:37:02.769466Z",
     "iopub.status.idle": "2021-02-26T10:37:02.779363Z",
     "shell.execute_reply": "2021-02-26T10:37:02.778234Z",
     "shell.execute_reply.started": "2021-02-26T10:37:02.770008Z"
    }
   },
   "outputs": [
    {
     "name": "stdout",
     "output_type": "stream",
     "text": [
      "[('L', 3), ('a', 267), (' ', 384), ('h', 15), ('e', 238), ('r', 126), ('o', 141), ('i', 98), ('c', 64), ('u', 87), ('d', 104), ('m', 49), ('í', 12), ('l', 112), ('s', 145), ('t', 68), ('.', 8), ('E', 2), ('v', 11), ('n', 110), ('S', 2), (',', 46), ('y', 29), ('p', 48), ('z', 11), ('j', 7), ('b', 46), ('q', 25), ('g', 23), ('N', 1), ('á', 11), ('é', 3), ('C', 2), ('ó', 5), ('f', 6), ('ñ', 5), ('V', 1), ('B', 1), ('x', 1), (';', 3), ('ú', 1)]\n"
     ]
    }
   ],
   "source": [
    "mensaje='La heroica ciudad dormía la siesta. El viento Sur, caliente y perezoso, empujaba las nubes blanquecinas que se rasgaban al correr hacia el Norte. En las calles no había más ruido que el rumor estridente de los remolinos de polvo, trapos, pajas y papeles que iban de arroyo en arroyo, de acera en acera, de esquina en esquina revolando y persiguiéndose, como mariposas que se buscan y huyen y que el aire envuelve en sus pliegues invisibles. Cual turbas de pilluelos, aquellas migajas de la basura, aquellas sobras de todo se juntaban en un montón, parábanse como dormidas un momento y brincaban de nuevo sobresaltadas, dispersándose, trepando unas por las paredes hasta los cristales temblorosos de los faroles, otras hasta los carteles de papel mal pegado a las esquinas, y había pluma que llegaba a un tercer piso, y arenilla que se incrustaba para días, o para años, en la vidriera de un escaparate, agarrada a un plomo. Vetusta, la muy noble y leal ciudad, corte en lejano siglo, hacía la digestión del cocido y de la olla podrida, y descansaba oyendo entre sueños el monótono y familiar zumbido de la campana de coro, que retumbaba allá en lo alto de la esbeltatorre en la Santa Basílica. La torre de la catedral, poema romántico de piedra,delicado himno, de dulces líneas de belleza muda y perenne, era obra del siglo diez y seis, aunque antes comenzada, de estilo gótico, pero, cabe decir, moderado por un instinto de prudencia y armonía que modificaba las vulgares exageraciones de esta arquitectura. La vista no se fatigaba contemplando horas y horas aquel índice depiedra que señalaba al cielo; no era una de esas torres cuya aguja se quiebra desutil, más flacas que esbeltas, amaneradas, como señoritas cursis que aprietandemasiado el corsé; era maciza sin perder nada de su espiritual grandeza, y hasta sussegundos corredores, elegante balaustrada, subía como fuerte castillo, lanzándosedesde allí en pirámide de ángulo gracioso, inimitable en sus medidas y proporciones.Como haz de músculos y nervios la piedra enroscándose en la piedra trepaba a la altura, haciendo equilibrios de acróbata en el aire; y como prodigio de juegosmalabares, en una punta de caliza se mantenía, cual imantada, una bola grande debronce dorado, y encima otra más pequeña, y sobre ésta una cruz de hierro que acababa en pararrayos.'\n",
    "\n",
    "nnn=1\n",
    "print(tablaFrecuencias(mensaje,numero_de_simbolos=nnn))\n"
   ]
  },
  {
   "cell_type": "code",
   "execution_count": 173,
   "metadata": {
    "execution": {
     "iopub.execute_input": "2021-02-26T10:39:37.439295Z",
     "iopub.status.busy": "2021-02-26T10:39:37.438740Z",
     "iopub.status.idle": "2021-02-26T10:39:37.447004Z",
     "shell.execute_reply": "2021-02-26T10:39:37.446079Z",
     "shell.execute_reply.started": "2021-02-26T10:39:37.439231Z"
    }
   },
   "outputs": [
    {
     "name": "stdout",
     "output_type": "stream",
     "text": [
      "[('L', 3), ('a', 267), (' ', 384), ('h', 15), ('e', 238), ('r', 126), ('o', 141), ('i', 98), ('c', 64), ('u', 87), ('d', 104), ('m', 49), ('í', 12), ('l', 112), ('s', 145), ('t', 68), ('.', 8), ('E', 2), ('v', 11), ('n', 110), ('S', 2), (',', 46), ('y', 29), ('p', 48), ('z', 11), ('j', 7), ('b', 46), ('q', 25), ('g', 23), ('N', 1), ('á', 11), ('é', 3), ('C', 2), ('ó', 5), ('f', 6), ('ñ', 5), ('V', 1), ('B', 1), ('x', 1), (';', 3), ('ú', 1)]\n"
     ]
    }
   ],
   "source": [
    "mensaje='La heroica ciudad dormía la siesta. El viento Sur, caliente y perezoso, empujaba las nubes blanquecinas que se rasgaban al correr hacia el Norte. En las calles no había más ruido que el rumor estridente de los remolinos de polvo, trapos, pajas y papeles que iban de arroyo en arroyo, de acera en acera, de esquina en esquina revolando y persiguiéndose, como mariposas que se buscan y huyen y que el aire envuelve en sus pliegues invisibles. Cual turbas de pilluelos, aquellas migajas de la basura, aquellas sobras de todo se juntaban en un montón, parábanse como dormidas un momento y brincaban de nuevo sobresaltadas, dispersándose, trepando unas por las paredes hasta los cristales temblorosos de los faroles, otras hasta los carteles de papel mal pegado a las esquinas, y había pluma que llegaba a un tercer piso, y arenilla que se incrustaba para días, o para años, en la vidriera de un escaparate, agarrada a un plomo. Vetusta, la muy noble y leal ciudad, corte en lejano siglo, hacía la digestión del cocido y de la olla podrida, y descansaba oyendo entre sueños el monótono y familiar zumbido de la campana de coro, que retumbaba allá en lo alto de la esbeltatorre en la Santa Basílica. La torre de la catedral, poema romántico de piedra,delicado himno, de dulces líneas de belleza muda y perenne, era obra del siglo diez y seis, aunque antes comenzada, de estilo gótico, pero, cabe decir, moderado por un instinto de prudencia y armonía que modificaba las vulgares exageraciones de esta arquitectura. La vista no se fatigaba contemplando horas y horas aquel índice depiedra que señalaba al cielo; no era una de esas torres cuya aguja se quiebra desutil, más flacas que esbeltas, amaneradas, como señoritas cursis que aprietandemasiado el corsé; era maciza sin perder nada de su espiritual grandeza, y hasta sussegundos corredores, elegante balaustrada, subía como fuerte castillo, lanzándosedesde allí en pirámide de ángulo gracioso, inimitable en sus medidas y proporciones.Como haz de músculos y nervios la piedra enroscándose en la piedra trepaba a la altura, haciendo equilibrios de acróbata en el aire; y como prodigio de juegosmalabares, en una punta de caliza se mantenía, cual imantada, una bola grande debronce dorado, y encima otra más pequeña, y sobre ésta una cruz de hierro que acababa en pararrayos.'\n",
    "\n",
    "nnn=2\n",
    "print(tablaFrecuencias(mensaje,numero_de_simbolos=nnn))\n"
   ]
  },
  {
   "cell_type": "code",
   "execution_count": 205,
   "metadata": {},
   "outputs": [],
   "source": [
    "def EncodeHuffman(mensaje, n = 1):\n",
    "\n",
    "    l = len(mensaje)\n",
    "    t = tablaFrecuencias(mensaje,n)\n",
    "    probs = [(x[1]/l) for x in t]\n",
    "    chars = [x[0] for x in t]\n",
    "    print(chars, probs)\n",
    "    huff = HuffmanChar(probs,chars)\n",
    "    m2c = {}\n",
    "    print(huff)\n",
    "    for elem in huff:\n",
    "        m2c[elem[2]] = elem[0]\n",
    "    print(m2c)\n",
    "    codificado = \"\"\n",
    "    for char in mensaje:\n",
    "        codificado += m2c[char]\n",
    "    cod = [elem[0] for elem in huff]\n",
    "    print(LongitudMedia(cod,probs))\n",
    "    return codificado , m2c, l\n",
    "    \n",
    "def DecodeHuffman(C,c2m,l):\n",
    "    M = \"\"\n",
    "    subs = \"\"\n",
    "    i = 0\n",
    "    while i < len(C):\n",
    "        subs = subs + C[i]\n",
    "        if subs in c2m:\n",
    "            M = M + c2m[subs] \n",
    "            subs = \"\"\n",
    "        \n",
    "        i += 1    \n",
    "    return M  "
   ]
  },
  {
   "cell_type": "markdown",
   "metadata": {},
   "source": [
    "---\n",
    "**Definir una función** `EncodeHuffman(mensaje,numero_de_simbolos=n_simbolos)` **que codifique un mensaje utilizando un código de Huffman \n",
    "obtenido a partir de las frecuencias de los caracteres del mensaje.**\n"
   ]
  },
  {
   "cell_type": "markdown",
   "metadata": {
    "execution": {
     "iopub.execute_input": "2021-02-26T10:09:45.730141Z",
     "iopub.status.busy": "2021-02-26T10:09:45.729935Z",
     "iopub.status.idle": "2021-02-26T10:09:45.742842Z",
     "shell.execute_reply": "2021-02-26T10:09:45.742038Z",
     "shell.execute_reply.started": "2021-02-26T10:09:45.730119Z"
    }
   },
   "source": [
    "Codifico un mensaje de prueba tomando las frecuencias de cada símbolo.  \n",
    "\n",
    "Hago una estimación de la ratio de compresión sin contar que he de almacenar el diccionario y contándolo.\n",
    "\n",
    "Los tiempos dependerán del entorno de ejecución."
   ]
  },
  {
   "cell_type": "code",
   "execution_count": 199,
   "metadata": {
    "execution": {
     "iopub.execute_input": "2021-02-26T10:46:50.235528Z",
     "iopub.status.busy": "2021-02-26T10:46:50.235177Z",
     "iopub.status.idle": "2021-02-26T10:46:50.506330Z",
     "shell.execute_reply": "2021-02-26T10:46:50.505785Z",
     "shell.execute_reply.started": "2021-02-26T10:46:50.235490Z"
    }
   },
   "outputs": [
    {
     "name": "stdout",
     "output_type": "stream",
     "text": [
      "['L', 'a', ' ', 'h', 'e', 'r', 'o', 'i', 'c', 'u', 'd', 'm', 'í', 'l', 's', 't', '.', 'E', 'v', 'n', 'S', ',', 'y', 'p', 'z', 'j', 'b', 'q', 'g', 'N', 'á', 'é', 'C', 'ó', 'f', 'ñ', 'V', 'B', 'x', ';', 'ú'] [0.0012925463162429987, 0.11503662214562689, 0.16544592847910383, 0.006462731581214994, 0.1025420077552779, 0.05428694528220594, 0.06074967686342094, 0.04222317966393796, 0.027574321413183972, 0.037483843171046964, 0.04480827229642396, 0.02111158983196898, 0.005170185264971995, 0.04825506247307195, 0.06247307195174494, 0.029297716501507972, 0.0034467901766479965, 0.0008616975441619991, 0.004739336492890996, 0.04739336492890995, 0.0008616975441619991, 0.01981904351572598, 0.012494614390348987, 0.02068074105988798, 0.004739336492890996, 0.003015941404566997, 0.01981904351572598, 0.010771219302024989, 0.00990952175786299, 0.00043084877208099956, 0.004739336492890996, 0.0012925463162429987, 0.0008616975441619991, 0.002154243860404998, 0.0025850926324859974, 0.002154243860404998, 0.00043084877208099956, 0.00043084877208099956, 0.00043084877208099956, 0.0012925463162429987, 0.00043084877208099956]\n",
      "[('00000', 0.04480827229642396, 'd'), ('00001', 0.04222317966393796, 'i'), ('000100', 0.02111158983196898, 'm'), ('000101', 0.02068074105988798, 'p'), ('000110', 0.01981904351572598, ','), ('000111', 0.01981904351572598, 'b'), ('001', 0.16544592847910383, ' '), ('01000', 0.037483843171046964, 'u'), ('0100100', 0.00990952175786299, 'g'), ('01001010', 0.004739336492890996, 'v'), ('01001011', 0.004739336492890996, 'z'), ('01001100', 0.004739336492890996, 'á'), ('010011010', 0.002154243860404998, 'ñ'), ('010011011', 0.002154243860404998, 'ó'), ('01001110', 0.0034467901766479965, '.'), ('01001111000', 0.00043084877208099956, 'B'), ('01001111001', 0.00043084877208099956, 'ú'), ('0100111101', 0.0008616975441619991, 'C'), ('0100111110', 0.0008616975441619991, 'S'), ('01001111110', 0.00043084877208099956, 'V'), ('01001111111', 0.00043084877208099956, 'N'), ('0101', 0.06247307195174494, 's'), ('0110', 0.06074967686342094, 'o'), ('01110', 0.029297716501507972, 't'), ('01111', 0.027574321413183972, 'c'), ('100', 0.11503662214562689, 'a'), ('101', 0.1025420077552779, 'e'), ('1100', 0.05428694528220594, 'r'), ('1101', 0.04825506247307195, 'l'), ('1110', 0.04739336492890995, 'n'), ('111100', 0.012494614390348987, 'y'), ('1111010', 0.006462731581214994, 'h'), ('11110110', 0.003015941404566997, 'j'), ('111101110', 0.0012925463162429987, 'é'), ('1111011110', 0.0008616975441619991, 'E'), ('1111011111', 0.00043084877208099956, 'x'), ('111110', 0.010771219302024989, 'q'), ('1111110', 0.005170185264971995, 'í'), ('111111100', 0.0012925463162429987, ';'), ('111111101', 0.0012925463162429987, 'L'), ('11111111', 0.0025850926324859974, 'f')]\n",
      "{'d': '00000', 'i': '00001', 'm': '000100', 'p': '000101', ',': '000110', 'b': '000111', ' ': '001', 'u': '01000', 'g': '0100100', 'v': '01001010', 'z': '01001011', 'á': '01001100', 'ñ': '010011010', 'ó': '010011011', '.': '01001110', 'B': '01001111000', 'ú': '01001111001', 'C': '0100111101', 'S': '0100111110', 'V': '01001111110', 'N': '01001111111', 's': '0101', 'o': '0110', 't': '01110', 'c': '01111', 'a': '100', 'e': '101', 'r': '1100', 'l': '1101', 'n': '1110', 'y': '111100', 'h': '1111010', 'j': '11110110', 'é': '111101110', 'E': '1111011110', 'x': '1111011111', 'q': '111110', 'í': '1111110', ';': '111111100', 'L': '111111101', 'f': '11111111'}\n",
      "6.4403274450667825\n",
      "\n",
      " Diccionario ordenado alfabéticamente:  [(' ', '001'), (',', '000110'), ('.', '01001110'), (';', '111111100'), ('B', '01001111000'), ('C', '0100111101'), ('E', '1111011110'), ('L', '111111101'), ('N', '01001111111'), ('S', '0100111110'), ('V', '01001111110'), ('a', '100'), ('b', '000111'), ('c', '01111'), ('d', '00000'), ('e', '101'), ('f', '11111111'), ('g', '0100100'), ('h', '1111010'), ('i', '00001'), ('j', '11110110'), ('l', '1101'), ('m', '000100'), ('n', '1110'), ('o', '0110'), ('p', '000101'), ('q', '111110'), ('r', '1100'), ('s', '0101'), ('t', '01110'), ('u', '01000'), ('v', '01001010'), ('x', '1111011111'), ('y', '111100'), ('z', '01001011'), ('á', '01001100'), ('é', '111101110'), ('í', '1111110'), ('ñ', '010011010'), ('ó', '010011011'), ('ú', '01001111001')]\n",
      "\n",
      " Diccionario ordenado longitud código:  [(' ', '001'), ('a', '100'), ('e', '101'), ('s', '0101'), ('o', '0110'), ('r', '1100'), ('l', '1101'), ('n', '1110'), ('d', '00000'), ('i', '00001'), ('u', '01000'), ('t', '01110'), ('c', '01111'), ('m', '000100'), ('p', '000101'), (',', '000110'), ('b', '000111'), ('y', '111100'), ('q', '111110'), ('g', '0100100'), ('h', '1111010'), ('í', '1111110'), ('v', '01001010'), ('z', '01001011'), ('á', '01001100'), ('.', '01001110'), ('j', '11110110'), ('f', '11111111'), ('ñ', '010011010'), ('ó', '010011011'), ('é', '111101110'), (';', '111111100'), ('L', '111111101'), ('C', '0100111101'), ('S', '0100111110'), ('E', '1111011110'), ('x', '1111011111'), ('B', '01001111000'), ('ú', '01001111001'), ('V', '01001111110'), ('N', '01001111111')]\n",
      "\n",
      " Ratio de compresión:  1.8883351978033154 1856800 --> 983300\n",
      "\n",
      " Ratio de compresión estimada con diccionario:  1.887076251377094 1856800 --> 983956\n",
      "!!!!!!!!!!!!!!!!!!!!!!!!!!!!!!!!!!!!!!!!!!!!\n",
      "\n",
      " Diccionario a guardar:  [['d', 5], ['i', 5], ['m', 6], ['p', 6], [',', 6], ['b', 6], [' ', 3], ['u', 5], ['g', 7], ['v', 8], ['z', 8], ['á', 8], ['ñ', 9], ['ó', 9], ['.', 8], ['B', 11], ['ú', 11], ['C', 10], ['S', 10], ['V', 11], ['N', 11], ['s', 4], ['o', 4], ['t', 5], ['c', 5], ['a', 3], ['e', 3], ['r', 4], ['l', 4], ['n', 4], ['y', 6], ['h', 7], ['j', 8], ['é', 9], ['E', 10], ['x', 10], ['q', 6], ['í', 7], [';', 9], ['L', 9], ['f', 8]]\n",
      "\n"
     ]
    }
   ],
   "source": [
    "\n",
    "mensaje='La heroica ciudad dormía la siesta. El viento Sur, caliente y perezoso, empujaba las nubes blanquecinas que se rasgaban al correr hacia el Norte. En las calles no había más ruido que el rumor estridente de los remolinos de polvo, trapos, pajas y papeles que iban de arroyo en arroyo, de acera en acera, de esquina en esquina revolando y persiguiéndose, como mariposas que se buscan y huyen y que el aire envuelve en sus pliegues invisibles. Cual turbas de pilluelos, aquellas migajas de la basura, aquellas sobras de todo se juntaban en un montón, parábanse como dormidas un momento y brincaban de nuevo sobresaltadas, dispersándose, trepando unas por las paredes hasta los cristales temblorosos de los faroles, otras hasta los carteles de papel mal pegado a las esquinas, y había pluma que llegaba a un tercer piso, y arenilla que se incrustaba para días, o para años, en la vidriera de un escaparate, agarrada a un plomo. Vetusta, la muy noble y leal ciudad, corte en lejano siglo, hacía la digestión del cocido y de la olla podrida, y descansaba oyendo entre sueños el monótono y familiar zumbido de la campana de coro, que retumbaba allá en lo alto de la esbeltatorre en la Santa Basílica. La torre de la catedral, poema romántico de piedra,delicado himno, de dulces líneas de belleza muda y perenne, era obra del siglo diez y seis, aunque antes comenzada, de estilo gótico, pero, cabe decir, moderado por un instinto de prudencia y armonía que modificaba las vulgares exageraciones de esta arquitectura. La vista no se fatigaba contemplando horas y horas aquel índice depiedra que señalaba al cielo; no era una de esas torres cuya aguja se quiebra desutil, más flacas que esbeltas, amaneradas, como señoritas cursis que aprietandemasiado el corsé; era maciza sin perder nada de su espiritual grandeza, y hasta sussegundos corredores, elegante balaustrada, subía como fuerte castillo, lanzándosedesde allí en pirámide de ángulo gracioso, inimitable en sus medidas y proporciones.Como haz de músculos y nervios la piedra enroscándose en la piedra trepaba a la altura, haciendo equilibrios de acróbata en el aire; y como prodigio de juegosmalabares, en una punta de caliza se mantenía, cual imantada, una bola grande debronce dorado, y encima otra más pequeña, y sobre ésta una cruz de hierro que acababa en pararrayos.'\n",
    "\n",
    "mensaje=mensaje[:]*100\n",
    "n_simbolos=1\n",
    "\n",
    "mensaje_codificado, m2c,len_M=EncodeHuffman(mensaje,n=1)\n",
    "mensaje_recuperado=DecodeHuffman(mensaje_codificado,m2c,len_M)\n",
    "\n",
    "print('\\n Diccionario ordenado alfabéticamente: ', sorted(m2c.items(), key=lambda x: x[0]))\n",
    "print('\\n Diccionario ordenado longitud código: ', sorted(m2c.items(), key=lambda x: len(x[1])))\n",
    "ratio_compresion=8*len(mensaje)/len(mensaje_codificado)\n",
    "ratio_compresion_con_diccionario=8*len(mensaje)/(len(mensaje_codificado)+len(m2c)*8*(n_simbolos+1))\n",
    "print('\\n Ratio de compresión: ', ratio_compresion ,8*len(mensaje),\"-->\",len(mensaje_codificado))\n",
    "print('\\n Ratio de compresión estimada con diccionario: ', ratio_compresion_con_diccionario,8*len(mensaje),\"-->\",len(mensaje_codificado)+len(m2c)*16)\n",
    "if (mensaje!=mensaje_recuperado):\n",
    "        print('!!!!!!!!!!!!!!!!!!!!!!!!!!!!!!!!!!!!!!!!!!!!')\n",
    "\n",
    "print('\\n Diccionario a guardar: ',[[x[0],len(x[1])] for x in m2c.items() ])\n",
    "print(mensaje_recuperado)"
   ]
  },
  {
   "cell_type": "markdown",
   "metadata": {},
   "source": [
    "### Codifico _La Regenta_ \n",
    "Uso como fuente los símbolos del texto."
   ]
  },
  {
   "cell_type": "code",
   "execution_count": 81,
   "metadata": {
    "execution": {
     "iopub.execute_input": "2021-02-26T10:53:26.913882Z",
     "iopub.status.busy": "2021-02-26T10:53:26.913404Z",
     "iopub.status.idle": "2021-02-26T10:53:28.743110Z",
     "shell.execute_reply": "2021-02-26T10:53:28.742507Z",
     "shell.execute_reply.started": "2021-02-26T10:53:26.913832Z"
    },
    "scrolled": true
   },
   "outputs": [
    {
     "ename": "FileNotFoundError",
     "evalue": "[Errno 2] No such file or directory: '../standard_test_text/la_regenta_utf8'",
     "output_type": "error",
     "traceback": [
      "\u001b[0;31m---------------------------------------------------------------------------\u001b[0m",
      "\u001b[0;31mFileNotFoundError\u001b[0m                         Traceback (most recent call last)",
      "\u001b[0;32m<ipython-input-81-37379cab16a0>\u001b[0m in \u001b[0;36m<module>\u001b[0;34m\u001b[0m\n\u001b[1;32m      1\u001b[0m \u001b[0mn_simbolos\u001b[0m\u001b[0;34m=\u001b[0m\u001b[0;36m1\u001b[0m\u001b[0;34m\u001b[0m\u001b[0;34m\u001b[0m\u001b[0m\n\u001b[1;32m      2\u001b[0m \u001b[0;34m\u001b[0m\u001b[0m\n\u001b[0;32m----> 3\u001b[0;31m \u001b[0;32mwith\u001b[0m \u001b[0mopen\u001b[0m \u001b[0;34m(\u001b[0m\u001b[0;34m\"../standard_test_text/la_regenta_utf8\"\u001b[0m\u001b[0;34m,\u001b[0m \u001b[0;34m\"r\"\u001b[0m\u001b[0;34m)\u001b[0m \u001b[0;32mas\u001b[0m \u001b[0mmyfile\u001b[0m\u001b[0;34m:\u001b[0m\u001b[0;34m\u001b[0m\u001b[0;34m\u001b[0m\u001b[0m\n\u001b[0m\u001b[1;32m      4\u001b[0m     \u001b[0mmensaje\u001b[0m\u001b[0;34m=\u001b[0m\u001b[0mmyfile\u001b[0m\u001b[0;34m.\u001b[0m\u001b[0mread\u001b[0m\u001b[0;34m(\u001b[0m\u001b[0;34m)\u001b[0m\u001b[0;34m\u001b[0m\u001b[0;34m\u001b[0m\u001b[0m\n\u001b[1;32m      5\u001b[0m \u001b[0mt0\u001b[0m\u001b[0;34m=\u001b[0m\u001b[0mtime\u001b[0m\u001b[0;34m.\u001b[0m\u001b[0mtime\u001b[0m\u001b[0;34m(\u001b[0m\u001b[0;34m)\u001b[0m\u001b[0;34m\u001b[0m\u001b[0;34m\u001b[0m\u001b[0m\n",
      "\u001b[0;31mFileNotFoundError\u001b[0m: [Errno 2] No such file or directory: '../standard_test_text/la_regenta_utf8'"
     ]
    }
   ],
   "source": [
    "n_simbolos=1\n",
    "\n",
    "with open (\"../standard_test_text/la_regenta_utf8\", \"r\") as myfile:\n",
    "    mensaje=myfile.read()\n",
    "t0=time.time()    \n",
    "mensaje_codificado, m2c,len_M=EncodeHuffman(mensaje,numero_de_simbolos=n_simbolos)\n",
    "t_encode=time.time()-t0\n",
    "print('--------------------------------------------------------------------------------')\n",
    "print('\\n Diccionario ordenado alfabéticamente: ', sorted(m2c.items(), key=lambda x: x[0]))\n",
    "print('\\n Diccionario ordenado longitud código: ', sorted(m2c.items(), key=lambda x: len(x[1])))\n",
    "ratio_compresion=8*len(mensaje)/len(mensaje_codificado)\n",
    "ratio_compresion_con_diccionario=8*len(mensaje)/(len(mensaje_codificado)+len(m2c)*8*(n_simbolos+1))\n",
    "print('\\n Ratio de compresión: ', ratio_compresion ,8*len(mensaje),\"-->\",len(mensaje_codificado),'(bits)')\n",
    "print('\\n Ratio de compresión estimada con diccionario: ', ratio_compresion_con_diccionario,8*len(mensaje),\"-->\",len(mensaje_codificado)+len(m2c)*8*(n_simbolos+1),'(bits)')\n",
    "\n",
    "print('\\n Tamaño Huffman     :',int((len(mensaje_codificado)+len(m2c)*8*(n_simbolos+1))/8),'bytes')\n",
    "print('\\n Tamaño Fichero .bz2: 518588 bytes')\n",
    "print('\\n Tamaño Fichero .zip: 678394 bytes')\n",
    "print('\\n Tamaño Fichero  .gz: 710464 bytes')\n",
    "\n",
    "\n",
    "t0=time.time()\n",
    "mensaje_recuperado=DecodeHuffman(mensaje_codificado,m2c,len_M)\n",
    "t_decode=time.time()-t0\n",
    "print(\"\\n Tiempo Encode (Tabla frecuencias+Código Huffman+Codificación):\", t_encode)\n",
    "print(\"\\n Tiempo Decode:\", t_decode)\n",
    "if (mensaje!=mensaje_recuperado):\n",
    "        print('!!!!!!!!!!!!!!!!!!!!!!!!!!!!!!!!!!!!!!!!!!!!')\n",
    "\n"
   ]
  },
  {
   "cell_type": "markdown",
   "metadata": {},
   "source": [
    "**Hago distintas pruebas  para ver como varía la ratio de compresión según el número de símbolos de la fuente tomados para calcular las frecuencias**"
   ]
  },
  {
   "cell_type": "code",
   "execution_count": 82,
   "metadata": {
    "execution": {
     "iopub.execute_input": "2021-02-26T11:09:50.595896Z",
     "iopub.status.busy": "2021-02-26T11:09:50.595507Z",
     "iopub.status.idle": "2021-02-26T11:10:40.679590Z",
     "shell.execute_reply": "2021-02-26T11:10:40.679167Z",
     "shell.execute_reply.started": "2021-02-26T11:09:50.595857Z"
    }
   },
   "outputs": [
    {
     "ename": "FileNotFoundError",
     "evalue": "[Errno 2] No such file or directory: '../standard_test_text/la_regenta_utf8'",
     "output_type": "error",
     "traceback": [
      "\u001b[0;31m---------------------------------------------------------------------------\u001b[0m",
      "\u001b[0;31mFileNotFoundError\u001b[0m                         Traceback (most recent call last)",
      "\u001b[0;32m<ipython-input-82-fc07d6861e35>\u001b[0m in \u001b[0;36m<module>\u001b[0;34m\u001b[0m\n\u001b[0;32m----> 1\u001b[0;31m \u001b[0;32mwith\u001b[0m \u001b[0mopen\u001b[0m \u001b[0;34m(\u001b[0m\u001b[0;34m\"../standard_test_text/la_regenta_utf8\"\u001b[0m\u001b[0;34m,\u001b[0m \u001b[0;34m\"r\"\u001b[0m\u001b[0;34m)\u001b[0m \u001b[0;32mas\u001b[0m \u001b[0mmyfile\u001b[0m\u001b[0;34m:\u001b[0m\u001b[0;34m\u001b[0m\u001b[0;34m\u001b[0m\u001b[0m\n\u001b[0m\u001b[1;32m      2\u001b[0m     \u001b[0mmensaje\u001b[0m\u001b[0;34m=\u001b[0m\u001b[0mmyfile\u001b[0m\u001b[0;34m.\u001b[0m\u001b[0mread\u001b[0m\u001b[0;34m(\u001b[0m\u001b[0;34m)\u001b[0m\u001b[0;34m\u001b[0m\u001b[0;34m\u001b[0m\u001b[0m\n\u001b[1;32m      3\u001b[0m \u001b[0;34m\u001b[0m\u001b[0m\n\u001b[1;32m      4\u001b[0m \u001b[0;34m\u001b[0m\u001b[0m\n\u001b[1;32m      5\u001b[0m \u001b[0;32mfor\u001b[0m \u001b[0mn_simbolos\u001b[0m \u001b[0;32min\u001b[0m \u001b[0mrange\u001b[0m\u001b[0;34m(\u001b[0m\u001b[0;36m1\u001b[0m\u001b[0;34m,\u001b[0m\u001b[0;36m5\u001b[0m\u001b[0;34m)\u001b[0m\u001b[0;34m:\u001b[0m\u001b[0;34m\u001b[0m\u001b[0;34m\u001b[0m\u001b[0m\n",
      "\u001b[0;31mFileNotFoundError\u001b[0m: [Errno 2] No such file or directory: '../standard_test_text/la_regenta_utf8'"
     ]
    }
   ],
   "source": [
    "with open (\"../standard_test_text/la_regenta_utf8\", \"r\") as myfile:\n",
    "    mensaje=myfile.read()\n",
    "\n",
    "\n",
    "for n_simbolos in range(1,5):\n",
    "    \n",
    "    print('\\n\\n--------------------------------------------------------------------------------')\n",
    "    print(' Codifico usando una fuente que toma '+str(n_simbolos)+ ' símbolos consecutivos')\n",
    "    print('--------------------------------------------------------------------------------')\n",
    "\n",
    "    t0=time.time()    \n",
    "    mensaje_codificado, m2c,len_M=EncodeHuffman(mensaje,numero_de_simbolos=n_simbolos)\n",
    "    t_encode=time.time()-t0\n",
    "    ratio_compresion=8*len(mensaje)/len(mensaje_codificado)\n",
    "    ratio_compresion_con_diccionario=8*len(mensaje)/(len(mensaje_codificado)+len(m2c)*8*(n_simbolos+1))\n",
    "    print('\\n Ratio de compresión: ', ratio_compresion ,8*len(mensaje),\"-->\",len(mensaje_codificado),'(bits)')\n",
    "    print('\\n Ratio de compresión estimada con diccionario: ', ratio_compresion_con_diccionario,8*len(mensaje),\"-->\",len(mensaje_codificado)+len(m2c)*8*(n_simbolos+1),'(bits)')\n",
    "\n",
    "    print('\\n Tamaño Huffman     :',int((len(mensaje_codificado)+len(m2c)*8*(n_simbolos+1))/8),'bytes')\n",
    "    print('\\n Tamaño Fichero .bz2: 518588 bytes')\n",
    "    print('\\n Tamaño Fichero .zip: 678394 bytes')\n",
    "    print('\\n Tamaño Fichero  .gz: 710464 bytes')\n",
    "\n",
    "    t0=time.time()\n",
    "    mensaje_recuperado=DecodeHuffman(mensaje_codificado,m2c,len_M)\n",
    "    t_decode=time.time()-t0\n",
    "    print(\"\\n Tiempo Encode (Tabla frecuencias+Código Huffman+Codificación):\", t_encode)\n",
    "    print(\"\\n Tiempo Decode:\", t_decode)\n",
    "    if (mensaje!=mensaje_recuperado):\n",
    "            print('!!!!!!!!!!!!!!!!!!!!!!!!!!!!!!!!!!!!!!!!!!!!')\n",
    "\n"
   ]
  },
  {
   "cell_type": "code",
   "execution_count": 206,
   "metadata": {},
   "outputs": [
    {
     "name": "stdout",
     "output_type": "stream",
     "text": [
      "['T', 'h', 'e', ' ', 'I', 's', 'l', 'a', 'n', 'd', 'o', 'f', 'D', 'c', 't', 'r', 'M', 'u', ',', 'b', 'y', 'H', '.', 'G', 'W', '[', ']', 'k', 'm', 'w', 'p', 'N', 'i', 'g', 'v', 'j', '!', ';', 'P', \"'\", 'A', 'x', 'O'] [0.0035555555555555557, 0.049777777777777775, 0.08622222222222223, 0.18933333333333333, 0.011555555555555555, 0.03288888888888889, 0.019555555555555555, 0.06666666666666667, 0.07022222222222223, 0.04533333333333334, 0.059555555555555556, 0.014222222222222223, 0.0008888888888888889, 0.019555555555555555, 0.06844444444444445, 0.044444444444444446, 0.0017777777777777779, 0.022222222222222223, 0.017777777777777778, 0.008888888888888889, 0.013333333333333334, 0.0026666666666666666, 0.015111111111111112, 0.0008888888888888889, 0.0008888888888888889, 0.0008888888888888889, 0.0008888888888888889, 0.0071111111111111115, 0.017777777777777778, 0.013333333333333334, 0.013333333333333334, 0.0008888888888888889, 0.04888888888888889, 0.016, 0.0044444444444444444, 0.0008888888888888889, 0.0035555555555555557, 0.0008888888888888889, 0.0017777777777777779, 0.0008888888888888889, 0.0008888888888888889, 0.0008888888888888889, 0.0008888888888888889]\n",
      "[('00000000', 0.0071111111111111115, 'k'), ('000000010', 0.0035555555555555557, 'T'), ('000000011', 0.0026666666666666666, 'H'), ('0000001', 0.011555555555555555, 'I'), ('000001', 0.022222222222222223, 'u'), ('00001', 0.04533333333333334, 'd'), ('0001', 0.08622222222222223, 'e'), ('00100', 0.044444444444444446, 'r'), ('001010', 0.019555555555555555, 'l'), ('001011', 0.019555555555555555, 'c'), ('0011', 0.07022222222222223, 'n'), ('010000', 0.017777777777777778, ','), ('010001', 0.017777777777777778, 'm'), ('0100100', 0.008888888888888889, 'b'), ('01001010', 0.0044444444444444444, 'v'), ('0100101100', 0.0008888888888888889, ';'), ('0100101101', 0.0008888888888888889, 'j'), ('0100101110', 0.0008888888888888889, 'x'), ('0100101111', 0.0008888888888888889, 'A'), ('010011', 0.016, 'g'), ('0101', 0.06844444444444445, 't'), ('0110', 0.06666666666666667, 'a'), ('01110', 0.03288888888888889, 's'), ('011110', 0.015111111111111112, '.'), ('011111', 0.014222222222222223, 'f'), ('1000', 0.059555555555555556, 'o'), ('1001000000', 0.0008888888888888889, \"'\"), ('1001000001', 0.0008888888888888889, 'N'), ('100100001', 0.0017777777777777779, 'M'), ('100100010', 0.0017777777777777779, 'P'), ('1001000110', 0.0008888888888888889, 'O'), ('1001000111', 0.0008888888888888889, ']'), ('1001001000', 0.0008888888888888889, '['), ('1001001001', 0.0008888888888888889, 'W'), ('1001001010', 0.0008888888888888889, 'G'), ('1001001011', 0.0008888888888888889, 'D'), ('10010011', 0.0035555555555555557, '!'), ('100101', 0.013333333333333334, 'p'), ('100110', 0.013333333333333334, 'w'), ('100111', 0.013333333333333334, 'y'), ('1010', 0.049777777777777775, 'h'), ('1011', 0.04888888888888889, 'i'), ('11', 0.18933333333333333, ' ')]\n",
      "{'k': '00000000', 'T': '000000010', 'H': '000000011', 'I': '0000001', 'u': '000001', 'd': '00001', 'e': '0001', 'r': '00100', 'l': '001010', 'c': '001011', 'n': '0011', ',': '010000', 'm': '010001', 'b': '0100100', 'v': '01001010', ';': '0100101100', 'j': '0100101101', 'x': '0100101110', 'A': '0100101111', 'g': '010011', 't': '0101', 'a': '0110', 's': '01110', '.': '011110', 'f': '011111', 'o': '1000', \"'\": '1001000000', 'N': '1001000001', 'M': '100100001', 'P': '100100010', 'O': '1001000110', ']': '1001000111', '[': '1001001000', 'W': '1001001001', 'G': '1001001010', 'D': '1001001011', '!': '10010011', 'p': '100101', 'w': '100110', 'y': '100111', 'h': '1010', 'i': '1011', ' ': '11'}\n",
      "7.262222222222224\n",
      "\n",
      " Diccionario ordenado alfabéticamente:  ['11', '10010011', '1001000000', '010000', '011110', '0100101100', '0100101111', '1001001011', '1001001010', '000000011', '0000001', '100100001', '1001000001', '1001000110', '100100010', '000000010', '1001001001', '1001001000', '1001000111', '0110', '0100100', '001011', '00001', '0001', '011111', '010011', '1010', '1011', '0100101101', '00000000', '001010', '010001', '0011', '1000', '100101', '00100', '01110', '0101', '000001', '01001010', '100110', '0100101110', '100111']\n",
      "\n",
      " Diccionario ordenado longitud código:  [(' ', '11'), ('e', '0001'), ('n', '0011'), ('t', '0101'), ('a', '0110'), ('o', '1000'), ('h', '1010'), ('i', '1011'), ('d', '00001'), ('r', '00100'), ('s', '01110'), ('u', '000001'), ('l', '001010'), ('c', '001011'), (',', '010000'), ('m', '010001'), ('g', '010011'), ('.', '011110'), ('f', '011111'), ('p', '100101'), ('w', '100110'), ('y', '100111'), ('I', '0000001'), ('b', '0100100'), ('k', '00000000'), ('v', '01001010'), ('!', '10010011'), ('T', '000000010'), ('H', '000000011'), ('M', '100100001'), ('P', '100100010'), (';', '0100101100'), ('j', '0100101101'), ('x', '0100101110'), ('A', '0100101111'), (\"'\", '1001000000'), ('N', '1001000001'), ('O', '1001000110'), (']', '1001000111'), ('[', '1001001000'), ('W', '1001001001'), ('G', '1001001010'), ('D', '1001001011')]\n",
      "\n",
      " Ratio de compresión:  1.8419975440032748 900000 --> 488600\n",
      "\n",
      " Ratio de compresión estimada con diccionario:  1.8394074655417667 900000 --> 489288\n",
      "!!!!!!!!!!!!!!!!!!!!!!!!!!!!!!!!!!!!!!!!!!!!\n",
      "\n",
      " Diccionario a guardar:  [['k', 8], ['T', 9], ['H', 9], ['I', 7], ['u', 6], ['d', 5], ['e', 4], ['r', 5], ['l', 6], ['c', 6], ['n', 4], [',', 6], ['m', 6], ['b', 7], ['v', 8], [';', 10], ['j', 10], ['x', 10], ['A', 10], ['g', 6], ['t', 4], ['a', 4], ['s', 5], ['.', 6], ['f', 6], ['o', 4], [\"'\", 10], ['N', 10], ['M', 9], ['P', 9], ['O', 10], [']', 10], ['[', 10], ['W', 10], ['G', 10], ['D', 10], ['!', 8], ['p', 6], ['w', 6], ['y', 6], ['h', 4], ['i', 4], [' ', 2]]\n",
      "\n"
     ]
    }
   ],
   "source": [
    "\n",
    "mensaje= \"The Island of Doctor Moreau, by H. G. Wells. [...] I looked round for some weapon. Nothing. Then with an inspiration I turned over the deck chair, put my foot on the side of it, and tore away the side rail. It happened that a nail came away with the wood, and projecting, gave a touch of danger to an otherwise petty weapon. I heard a step outside, and incontinently flung open the door and found Montgomery within a yard of it. He meant to lock the outer door! I raised this nailed stick of mine and cut at his face; but he sprang back. I hesitated a moment, then turned and fled, round the corner of the house. Prendick, man! I heard his astonished cry, don't be a silly ass, man! Another minute, thought I, and he would have had me locked in, and as ready as a hospital rabbit for my fate. He emerged behind the corner, for I heard him shout, Prendick! Then he began to run after me, shouting things as he ran. This time running blindly, I went northeastward in a direction at right angles to my previous expedition. Once, as I went running headlong up the beach, I glanced over my shoulder and saw his attendant with him.\"\n",
    "mensaje=mensaje[:]*100\n",
    "n_simbolos=1\n",
    "\n",
    "mensaje_codificado, m2c,len_M=EncodeHuffman(mensaje)\n",
    "mensaje_recuperado=DecodeHuffman(mensaje_codificado,m2c,len_M)\n",
    "alf = sorted(m2c.items(), key=lambda x: x[0])\n",
    "print('\\n Diccionario ordenado alfabéticamente: ', [elem[1] for elem in alf])\n",
    "print('\\n Diccionario ordenado longitud código: ', sorted(m2c.items(), key=lambda x: len(x[1])))\n",
    "ratio_compresion=8*len(mensaje)/len(mensaje_codificado)\n",
    "ratio_compresion_con_diccionario=8*len(mensaje)/(len(mensaje_codificado)+len(m2c)*8*(n_simbolos+1))\n",
    "print('\\n Ratio de compresión: ', ratio_compresion ,8*len(mensaje),\"-->\",len(mensaje_codificado))\n",
    "print('\\n Ratio de compresión estimada con diccionario: ', ratio_compresion_con_diccionario,8*len(mensaje),\"-->\",len(mensaje_codificado)+len(m2c)*16)\n",
    "if (mensaje!=mensaje_recuperado):\n",
    "        print('!!!!!!!!!!!!!!!!!!!!!!!!!!!!!!!!!!!!!!!!!!!!')\n",
    "\n",
    "print('\\n Diccionario a guardar: ',[[x[0],len(x[1])] for x in m2c.items() ])\n",
    "\n",
    "\n",
    "\n",
    "print(mensaje_recuperado)\n"
   ]
  },
  {
   "cell_type": "code",
   "execution_count": 176,
   "metadata": {},
   "outputs": [
    {
     "name": "stdout",
     "output_type": "stream",
     "text": [
      "48 48 48 43 43\n"
     ]
    },
    {
     "ename": "IndexError",
     "evalue": "list index out of range",
     "output_type": "error",
     "traceback": [
      "\u001b[0;31m---------------------------------------------------------------------------\u001b[0m",
      "\u001b[0;31mIndexError\u001b[0m                                Traceback (most recent call last)",
      "\u001b[0;32m<ipython-input-176-ff8a7709bf7c>\u001b[0m in \u001b[0;36m<module>\u001b[0;34m\u001b[0m\n\u001b[1;32m     11\u001b[0m \u001b[0mprint\u001b[0m\u001b[0;34m(\u001b[0m\u001b[0mlen\u001b[0m\u001b[0;34m(\u001b[0m\u001b[0ma\u001b[0m\u001b[0;34m)\u001b[0m\u001b[0;34m,\u001b[0m \u001b[0mlen\u001b[0m\u001b[0;34m(\u001b[0m\u001b[0mb\u001b[0m\u001b[0;34m)\u001b[0m\u001b[0;34m,\u001b[0m \u001b[0mlen\u001b[0m\u001b[0;34m(\u001b[0m\u001b[0mc\u001b[0m\u001b[0;34m)\u001b[0m\u001b[0;34m,\u001b[0m \u001b[0mlen\u001b[0m\u001b[0;34m(\u001b[0m\u001b[0mt\u001b[0m\u001b[0;34m)\u001b[0m\u001b[0;34m,\u001b[0m \u001b[0mlen\u001b[0m\u001b[0;34m(\u001b[0m\u001b[0mprob\u001b[0m\u001b[0;34m)\u001b[0m\u001b[0;34m)\u001b[0m\u001b[0;34m\u001b[0m\u001b[0;34m\u001b[0m\u001b[0m\n\u001b[1;32m     12\u001b[0m \u001b[0;34m\u001b[0m\u001b[0m\n\u001b[0;32m---> 13\u001b[0;31m \u001b[0mprint\u001b[0m\u001b[0;34m(\u001b[0m\u001b[0msum\u001b[0m\u001b[0;34m(\u001b[0m\u001b[0;34m[\u001b[0m\u001b[0mlen\u001b[0m\u001b[0;34m(\u001b[0m\u001b[0ma\u001b[0m\u001b[0;34m[\u001b[0m\u001b[0mx\u001b[0m\u001b[0;34m]\u001b[0m\u001b[0;34m)\u001b[0m\u001b[0;34m*\u001b[0m\u001b[0mprob\u001b[0m\u001b[0;34m[\u001b[0m\u001b[0mx\u001b[0m\u001b[0;34m]\u001b[0m \u001b[0;32mfor\u001b[0m \u001b[0mx\u001b[0m \u001b[0;32min\u001b[0m \u001b[0mrange\u001b[0m\u001b[0;34m(\u001b[0m\u001b[0mlen\u001b[0m\u001b[0;34m(\u001b[0m\u001b[0ma\u001b[0m\u001b[0;34m)\u001b[0m\u001b[0;34m)\u001b[0m\u001b[0;34m]\u001b[0m\u001b[0;34m)\u001b[0m\u001b[0;34m)\u001b[0m\u001b[0;34m\u001b[0m\u001b[0;34m\u001b[0m\u001b[0m\n\u001b[0m\u001b[1;32m     14\u001b[0m \u001b[0;34m\u001b[0m\u001b[0m\n\u001b[1;32m     15\u001b[0m \u001b[0mprint\u001b[0m\u001b[0;34m(\u001b[0m\u001b[0msum\u001b[0m\u001b[0;34m(\u001b[0m\u001b[0;34m[\u001b[0m\u001b[0mlen\u001b[0m\u001b[0;34m(\u001b[0m\u001b[0ma\u001b[0m\u001b[0;34m[\u001b[0m\u001b[0mx\u001b[0m\u001b[0;34m]\u001b[0m\u001b[0;34m)\u001b[0m\u001b[0;34m*\u001b[0m\u001b[0mprob\u001b[0m\u001b[0;34m[\u001b[0m\u001b[0mx\u001b[0m\u001b[0;34m]\u001b[0m \u001b[0;32mfor\u001b[0m \u001b[0mx\u001b[0m \u001b[0;32min\u001b[0m \u001b[0mrange\u001b[0m\u001b[0;34m(\u001b[0m\u001b[0mlen\u001b[0m\u001b[0;34m(\u001b[0m\u001b[0mb\u001b[0m\u001b[0;34m)\u001b[0m\u001b[0;34m)\u001b[0m\u001b[0;34m]\u001b[0m\u001b[0;34m)\u001b[0m\u001b[0;34m)\u001b[0m\u001b[0;34m\u001b[0m\u001b[0;34m\u001b[0m\u001b[0m\n",
      "\u001b[0;32m<ipython-input-176-ff8a7709bf7c>\u001b[0m in \u001b[0;36m<listcomp>\u001b[0;34m(.0)\u001b[0m\n\u001b[1;32m     11\u001b[0m \u001b[0mprint\u001b[0m\u001b[0;34m(\u001b[0m\u001b[0mlen\u001b[0m\u001b[0;34m(\u001b[0m\u001b[0ma\u001b[0m\u001b[0;34m)\u001b[0m\u001b[0;34m,\u001b[0m \u001b[0mlen\u001b[0m\u001b[0;34m(\u001b[0m\u001b[0mb\u001b[0m\u001b[0;34m)\u001b[0m\u001b[0;34m,\u001b[0m \u001b[0mlen\u001b[0m\u001b[0;34m(\u001b[0m\u001b[0mc\u001b[0m\u001b[0;34m)\u001b[0m\u001b[0;34m,\u001b[0m \u001b[0mlen\u001b[0m\u001b[0;34m(\u001b[0m\u001b[0mt\u001b[0m\u001b[0;34m)\u001b[0m\u001b[0;34m,\u001b[0m \u001b[0mlen\u001b[0m\u001b[0;34m(\u001b[0m\u001b[0mprob\u001b[0m\u001b[0;34m)\u001b[0m\u001b[0;34m)\u001b[0m\u001b[0;34m\u001b[0m\u001b[0;34m\u001b[0m\u001b[0m\n\u001b[1;32m     12\u001b[0m \u001b[0;34m\u001b[0m\u001b[0m\n\u001b[0;32m---> 13\u001b[0;31m \u001b[0mprint\u001b[0m\u001b[0;34m(\u001b[0m\u001b[0msum\u001b[0m\u001b[0;34m(\u001b[0m\u001b[0;34m[\u001b[0m\u001b[0mlen\u001b[0m\u001b[0;34m(\u001b[0m\u001b[0ma\u001b[0m\u001b[0;34m[\u001b[0m\u001b[0mx\u001b[0m\u001b[0;34m]\u001b[0m\u001b[0;34m)\u001b[0m\u001b[0;34m*\u001b[0m\u001b[0mprob\u001b[0m\u001b[0;34m[\u001b[0m\u001b[0mx\u001b[0m\u001b[0;34m]\u001b[0m \u001b[0;32mfor\u001b[0m \u001b[0mx\u001b[0m \u001b[0;32min\u001b[0m \u001b[0mrange\u001b[0m\u001b[0;34m(\u001b[0m\u001b[0mlen\u001b[0m\u001b[0;34m(\u001b[0m\u001b[0ma\u001b[0m\u001b[0;34m)\u001b[0m\u001b[0;34m)\u001b[0m\u001b[0;34m]\u001b[0m\u001b[0;34m)\u001b[0m\u001b[0;34m)\u001b[0m\u001b[0;34m\u001b[0m\u001b[0;34m\u001b[0m\u001b[0m\n\u001b[0m\u001b[1;32m     14\u001b[0m \u001b[0;34m\u001b[0m\u001b[0m\n\u001b[1;32m     15\u001b[0m \u001b[0mprint\u001b[0m\u001b[0;34m(\u001b[0m\u001b[0msum\u001b[0m\u001b[0;34m(\u001b[0m\u001b[0;34m[\u001b[0m\u001b[0mlen\u001b[0m\u001b[0;34m(\u001b[0m\u001b[0ma\u001b[0m\u001b[0;34m[\u001b[0m\u001b[0mx\u001b[0m\u001b[0;34m]\u001b[0m\u001b[0;34m)\u001b[0m\u001b[0;34m*\u001b[0m\u001b[0mprob\u001b[0m\u001b[0;34m[\u001b[0m\u001b[0mx\u001b[0m\u001b[0;34m]\u001b[0m \u001b[0;32mfor\u001b[0m \u001b[0mx\u001b[0m \u001b[0;32min\u001b[0m \u001b[0mrange\u001b[0m\u001b[0;34m(\u001b[0m\u001b[0mlen\u001b[0m\u001b[0;34m(\u001b[0m\u001b[0mb\u001b[0m\u001b[0;34m)\u001b[0m\u001b[0;34m)\u001b[0m\u001b[0;34m]\u001b[0m\u001b[0;34m)\u001b[0m\u001b[0;34m)\u001b[0m\u001b[0;34m\u001b[0m\u001b[0;34m\u001b[0m\u001b[0m\n",
      "\u001b[0;31mIndexError\u001b[0m: list index out of range"
     ]
    }
   ],
   "source": [
    "\n",
    "a = sorted(['000', '1111110110', '11110110', '110100', '1110100', '10100', '1111110111', '111110100', '111110101', '1111111000', '1111111001', '1111111010', '11110111', '1110101', '11111000', '111110110', '1111111011', '111110111', '1111111100', '1110110', '111111000', '1111111101', '111111001', '0100', '110101', '110110', '10101', '001', '1110111', '1111000', '0101', '10110', '111111010', '1111001', '10111', '110111', '0110', '0111', '111000', '1111111110', '11000', '1000', '1001', '11001', '11111001', '1111010', '1111111111', '111001'])\n",
    "\n",
    "b = sorted(['000', '1101110', '111111000', '1101111', '11110010', '10010', '1110000', '111111001', '11110011', '1110001', '111111010', '111111011', '1110010', '1110011', '11110100', '11110101', '11110110', '111111100', '11110111', '11111000', '111111101', '11111001', '1110100', '0100', '1110101', '110010', '10011', '001', '110011', '1110110', '0101', '10100', '1110111', '11111010', '10101', '110100', '10110', '0110', '110101', '111111110', '10111', '0111', '1000', '11000', '111111111', '1111000', '11111011', '110110'])\n",
    "\n",
    "c = sorted(['000', '11101100', '11101101', '110010', '111111110', '10010', '11101110', '11101111', '11110000', '11110001', '11110010', '111111111', '11110011', '1101110', '11110100', '11110101', '11110110', '11110111', '1101111', '1110000', '11111000', '11111001', '11111010', '0100', '110011', '110100', '10011', '001', '1110001', '1110010', '0101', '10100', '11111011', '1110011', '10101', '110101', '10110', '0110', '1110100', '11111100', '10111', '0111', '1000', '11000', '11111101', '1110101', '11111110', '110110'])\n",
    "\n",
    "t = sorted(['11', '10010011', '1001000000', '010000', '011110', '0100101100', '0100101111', '1001001011', '1001001010', '000000011', '0000001', '100100001', '1001000001', '1001000110', '100100010', '000000010', '1001001001', '1001001000', '1001000111', '0110', '0100100', '001011', '00001', '0001', '011111', '010011', '1010', '1011', '0100101101', '00000000', '001010', '010001', '0011', '1000', '100101', '00100', '01110', '0101', '000001', '01001010', '100110', '0100101110', '100111'])\n",
    "\n",
    "prob = [0.0008888888888888889, 0.0008888888888888889, 0.0008888888888888889, 0.0008888888888888889, 0.0008888888888888889, 0.0008888888888888889, 0.0008888888888888889, 0.0008888888888888889, 0.0008888888888888889, 0.0008888888888888889, 0.0008888888888888889, 0.0008888888888888889, 0.0017777777777777779, 0.0017777777777777779, 0.0026666666666666666, 0.0035555555555555557, 0.0035555555555555557, 0.0044444444444444444, 0.0071111111111111115, 0.008888888888888889, 0.011555555555555555, 0.013333333333333334, 0.013333333333333334, 0.013333333333333334, 0.014222222222222223, 0.015111111111111112, 0.016, 0.017777777777777778, 0.017777777777777778, 0.019555555555555555, 0.019555555555555555, 0.022222222222222223, 0.03288888888888889, 0.044444444444444446, 0.04533333333333334, 0.04888888888888889, 0.049777777777777775, 0.059555555555555556, 0.06666666666666667, 0.06844444444444445, 0.07022222222222223, 0.08622222222222223, 0.18933333333333333]\n",
    "\n",
    "print(len(a), len(b), len(c), len(t), len(prob))\n",
    "\n",
    "print(sum([len(a[x])*prob[x] for x in range(len(a))]))\n",
    "\n",
    "print(sum([len(a[x])*prob[x] for x in range(len(b))]))\n",
    "\n",
    "print(sum([len(a[x])*prob[x] for x in range(len(c))]))\n",
    "\n",
    "print(sum([len(a[x])*prob[x] for x in range(len(t))]))\n",
    "\n",
    "\n",
    "\n",
    "\"\"\"\n",
    "[3, 3, 4, 4, 4, 4, 4, 4, 5, 5, 5, 5, 5, 5, 6, 6, 6, 6, 6, 6, 7, 7, 7, 7, 7, 7, 7, 8, 8, 8, 8, 9, 9, 9, 9, 9, 9, 9, 10, 10, 10, 10, 10, 10, 10, 10, 10, 10]\n",
    "[3, 3, 4, 4, 4, 4, 4, 5, 5, 5, 5, 5, 5, 5, 6, 6, 6, 6, 6, 7, 7, 7, 7, 7, 7, 7, 7, 7, 7, 7, 8, 8, 8, 8, 8, 8, 8, 8, 8, 8, 9, 9, 9, 9, 9, 9, 9, 9]\n",
    "[3, 3, 4, 4, 4, 4, 4, 5, 5, 5, 5, 5, 5, 5, 6, 6, 6, 6, 6, 7, 7, 7, 7, 7, 7, 7, 7, 8, 8, 8, 8, 8, 8, 8, 8, 8, 8, 8, 8, 8, 8, 8, 8, 8, 8, 8, 9, 9]\n",
    "[3, 3, 4, 4, 4, 4, 4, 4, 5, 5, 5, 5, 5, 5, 6, 6, 6, 6, 6, 6, 7, 7, 7, 7, 7, 7, 8, 8, 8, 8, 8, 8, 9, 9, 9, 9, 9, 9, 9, 9, 10, 10, 10, 10, 10, 10, 10, 10]\n",
    "\n",
    "\"\"\"\n"
   ]
  },
  {
   "cell_type": "code",
   "execution_count": 185,
   "metadata": {},
   "outputs": [
    {
     "name": "stdout",
     "output_type": "stream",
     "text": [
      "['11', '1011', '1010', '100111', '100110', '100101', '10010011', '1001001011', '1001001010', '1001001001', '1001001000', '1001000111', '1001000110', '100100010', '100100001', '1001000001', '1001000000', '1000', '011111', '011110', '01110', '0110', '0101', '010011', '0100101111', '0100101110', '0100101101', '0100101100', '01001010', '0100100', '010001', '010000', '0011', '001011', '001010', '00100', '0001', '00001', '000001', '0000001', '000000011', '000000010', '00000000']\n",
      "43 43 43 43 43\n",
      "4.343111111111111\n",
      "4.348444444444445\n",
      "4.362666666666667\n",
      "6.937777777777778\n"
     ]
    },
    {
     "data": {
      "text/plain": [
       "'\\n\\n[2, 4, 4, 4, 4, 4, 4, 4, 5, 5, 5, 6, 6, 6, 6, 6, 6, 6, 6, 6, 6, 7, 7, 7, 7, 8, 8, 8, 8, 9, 9, 10, 10, 10, 10, 10, 10, 10, 10, 10, 10, 10, 10]\\n[2, 4, 4, 4, 4, 4, 4, 4, 5, 5, 5, 5, 6, 6, 6, 6, 6, 6, 6, 7, 7, 7, 7, 7, 7, 8, 8, 8, 9, 9, 9, 9, 9, 10, 10, 10, 10, 10, 10, 10, 10, 10, 10]\\n[2, 4, 4, 4, 4, 4, 4, 4, 5, 5, 5, 6, 6, 6, 6, 6, 6, 6, 6, 7, 7, 7, 7, 7, 8, 8, 8, 8, 8, 8, 8, 8, 8, 8, 8, 9, 9, 9, 9, 10, 10, 10, 10]\\n[2, 4, 4, 4, 4, 4, 4, 4, 5, 5, 5, 6, 6, 6, 6, 6, 6, 6, 6, 6, 6, 6, 7, 7, 8, 8, 8, 9, 9, 9, 9, 10, 10, 10, 10, 10, 10, 10, 10, 10, 10, 10, 10]\\n\\n'"
      ]
     },
     "execution_count": 185,
     "metadata": {},
     "output_type": "execute_result"
    }
   ],
   "source": [
    "#2\n",
    "a = sorted(['00', '11111000', '1111110100', '110010', '110011', '1111110101', '1111110110', '1111110111', '1111111000', '11111001', '1111000', '111111000', '1111111001', '1111111010', '111111001', '11111010', '1111111011', '1111111100', '1111111101', '0100', '1111001', '110100', '10110', '0101', '110101', '110110', '0110', '0111', '1111111110', '1111010', '110111', '111000', '1000', '1001', '111001', '10111', '11000', '1010', '111010', '11111011', '1111011', '1111111111', '111011']\n",
    "          ,reverse=True )\n",
    "b = sorted(['00', '1111110110', '1111110111', '110100', '110101', '1111111000', '111110110', '111110111', '11111000', '1111111001', '1110110', '111111000', '1111111010', '111111001', '1111111011', '1111111100', '1111111101', '11111001', '1111111110', '0100', '1110111', '110110', '10110', '0101', '110111', '111000', '0110', '0111', '1111111111', '1111000', '111001', '111010', '1000', '1001', '1111001', '10111', '11000', '1010', '11001', '11111010', '1111010', '111111010', '1111011']\n",
    "          ,reverse=True)\n",
    "c = sorted(['00', '11110010', '11110011', '110010', '110011', '1111111100', '11110100', '111111010', '111111011', '11110101', '1110100', '1111111101', '11110110', '11110111', '1111111110', '11111000', '11111001', '1111111111', '111111100', '0100', '1110101', '110100', '10110', '0101', '1110110', '110101', '0110', '0111', '11111010', '11111011', '110110', '110111', '1000', '1001', '1110111', '10111', '11000', '1010', '111000', '111111101', '1111000', '11111100', '111001']\n",
    "          ,reverse=True)\n",
    "t = sorted(['11', '10010011', '1001000000', '010000', '011110', '0100101100', '0100101111', '1001001011', '1001001010', '000000011', '0000001', '100100001', '1001000001', '1001000110', '100100010', '000000010', '1001001001', '1001001000', '1001000111', '0110', '0100100', '001011', '00001', '0001', '011111', '010011', '1010', '1011', '0100101101', '00000000', '001010', '010001', '0011', '1000', '100101', '00100', '01110', '0101', '000001', '01001010', '100110', '0100101110', '100111']\n",
    "          ,reverse=True)\n",
    "print(t)\n",
    "prob = [0.0008888888888888889, 0.0008888888888888889, 0.0008888888888888889, 0.0008888888888888889, 0.0008888888888888889, 0.0008888888888888889, 0.0008888888888888889, 0.0008888888888888889, 0.0008888888888888889, 0.0008888888888888889, 0.0008888888888888889, 0.0008888888888888889, 0.0017777777777777779, 0.0017777777777777779, 0.0026666666666666666, 0.0035555555555555557, 0.0035555555555555557, 0.0044444444444444444, 0.0071111111111111115, 0.008888888888888889, 0.011555555555555555, 0.013333333333333334, 0.013333333333333334, 0.013333333333333334, 0.014222222222222223, 0.015111111111111112, 0.016, 0.017777777777777778, 0.017777777777777778, 0.019555555555555555, 0.019555555555555555, 0.022222222222222223, 0.03288888888888889, 0.044444444444444446, 0.04533333333333334, 0.04888888888888889, 0.049777777777777775, 0.059555555555555556, 0.06666666666666667, 0.06844444444444445, 0.07022222222222223, 0.08622222222222223, 0.18933333333333333]\n",
    "\n",
    "print(len(a), len(b), len(c), len(t), len(prob))\n",
    "\n",
    "print(sum([len(a[x])*prob[x] for x in range(len(a))]))\n",
    "\n",
    "print(sum([len(b[x])*prob[x] for x in range(len(b))]))\n",
    "\n",
    "print(sum([len(c[x])*prob[x] for x in range(len(c))]))\n",
    "\n",
    "print(sum([len(t[x])*prob[x] for x in range(len(t))]))\n",
    "\n",
    "\n",
    "\n",
    "\"\"\"\n",
    "\n",
    "[2, 4, 4, 4, 4, 4, 4, 4, 5, 5, 5, 6, 6, 6, 6, 6, 6, 6, 6, 6, 6, 7, 7, 7, 7, 8, 8, 8, 8, 9, 9, 10, 10, 10, 10, 10, 10, 10, 10, 10, 10, 10, 10]\n",
    "[2, 4, 4, 4, 4, 4, 4, 4, 5, 5, 5, 5, 6, 6, 6, 6, 6, 6, 6, 7, 7, 7, 7, 7, 7, 8, 8, 8, 9, 9, 9, 9, 9, 10, 10, 10, 10, 10, 10, 10, 10, 10, 10]\n",
    "[2, 4, 4, 4, 4, 4, 4, 4, 5, 5, 5, 6, 6, 6, 6, 6, 6, 6, 6, 7, 7, 7, 7, 7, 8, 8, 8, 8, 8, 8, 8, 8, 8, 8, 8, 9, 9, 9, 9, 10, 10, 10, 10]\n",
    "[2, 4, 4, 4, 4, 4, 4, 4, 5, 5, 5, 6, 6, 6, 6, 6, 6, 6, 6, 6, 6, 6, 7, 7, 8, 8, 8, 9, 9, 9, 9, 10, 10, 10, 10, 10, 10, 10, 10, 10, 10, 10, 10]\n",
    "\n",
    "\"\"\""
   ]
  },
  {
   "cell_type": "code",
   "execution_count": 148,
   "metadata": {},
   "outputs": [
    {
     "data": {
      "text/plain": [
       "2.0295568985566925"
      ]
     },
     "execution_count": 148,
     "metadata": {},
     "output_type": "execute_result"
    }
   ],
   "source": [
    "p =[3/53,8/53,8/53,10/53,24/53]\n",
    "\n",
    "s = 0\n",
    "for elem in p:\n",
    "    s += elem*math.log(1/elem,2)\n",
    "s"
   ]
  },
  {
   "cell_type": "code",
   "execution_count": 156,
   "metadata": {},
   "outputs": [
    {
     "name": "stdout",
     "output_type": "stream",
     "text": [
      "[False, False, False, False, False, True, False, True, False, False, False, False, False, True, True, False, True, False]\n",
      "[True, True, True, True, True, True, True, True, True, True, True, True, True, True, True, True, True, True]\n",
      "[False, False, False, False, False, False, False, True, False, False, False, False, False, False, False, True, False, False]\n"
     ]
    }
   ],
   "source": [
    "h = ['1101001', '011', '101011', '001', '1001', '101010', '1110', '1101000', '000', '0100', '1011', '0101', '1111', '10100', '110101', '1000', '11011', '1100'] \n",
    "\n",
    "\n",
    "a = [0.0066, 0.012, 0.0199, 0.0206, 0.0264, 0.0375, 0.0402, 0.0496, 0.0603, 0.0614, 0.0697, 0.0757, 0.0774, 0.0798, 0.0808, 0.0904, 0.0919, 0.0997]\n",
    "\n",
    "b = [0.012, 0.0997, 0.0206, 0.0919, 0.0798, 0.0264, 0.0697, 0.0066, 0.0904, 0.0496, 0.0808, 0.0603, 0.0614, 0.0402, 0.0199, 0.0774, 0.0375, 0.0757]\n",
    "\n",
    "c = [0.0106, 0.0267, 0.0112, 0.0239, 0.0172, 0.0129, 0.0213, 0.0188, 0.0099, 0.0266, 0.0189, 0.0206, 0.0281, 0.0183, 0.0145, 0.6967, 0.0159, 0.0079]\n",
    "\n",
    "\n",
    "print([a[i] > 1/(2**(len(h[i])-1)) for i in range(len(h))])\n",
    "\n",
    "print([b[i] < 1/(2**(len(h[i])-1)) for i in range(len(h))])\n",
    "\n",
    "print([c[i] > 1/(2**(len(h[i])-1)) for i in range(len(h))])\n"
   ]
  }
 ],
 "metadata": {
  "kernelspec": {
   "display_name": "Python 3",
   "language": "python",
   "name": "python3"
  },
  "language_info": {
   "codemirror_mode": {
    "name": "ipython",
    "version": 3
   },
   "file_extension": ".py",
   "mimetype": "text/x-python",
   "name": "python",
   "nbconvert_exporter": "python",
   "pygments_lexer": "ipython3",
   "version": "3.8.10"
  }
 },
 "nbformat": 4,
 "nbformat_minor": 5
}
