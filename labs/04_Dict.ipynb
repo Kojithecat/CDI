{
 "cells": [
  {
   "cell_type": "markdown",
   "metadata": {},
   "source": [
    "# LZ77 Diccionario"
   ]
  },
  {
   "cell_type": "code",
   "execution_count": 23,
   "metadata": {},
   "outputs": [],
   "source": [
    "def decodeLZ77(m):\n",
    "    originalm = \"\"\n",
    "    \n",
    "    for elem in m:\n",
    "        if elem[0] == 'EOF':\n",
    "            break\n",
    "        elif elem[2] == 0:\n",
    "            originalm += elem[0]\n",
    "        elif elem[1] < elem[2]: \n",
    "            originalm += originalm[-elem[2]:-elem[2]+elem[1]] + elem[0] \n",
    "        else:\n",
    "            i = 0\n",
    "            while i < elem[1]:\n",
    "                originalm += originalm[-elem[2]] \n",
    "                i += 1\n",
    "            originalm += elem[0]\n",
    "    \n",
    "    return originalm"
   ]
  },
  {
   "cell_type": "code",
   "execution_count": 35,
   "metadata": {},
   "outputs": [],
   "source": [
    "m = [['T', 0, 0], ['h', 0, 0], ['e', 0, 0], [' ', 0, 0], ['i', 1, 4], ['m', 0, 0], ['M', 2, 5], ['a', 0, 0], ['c', 0, 0], ['i', 1, 11], ['n', 0, 0], [',', 1, 8], ['H', 1, 9], ['(', 0, 0], ['r', 1, 5], ['b', 0, 0], ['t', 2, 3], [')', 0, 0], ['G', 1, 10], ['o', 2, 10], ['g', 1, 8], [')', 1, 4], ['W', 1, 9], ['l', 1, 4], ['s', 1, 1], ['[', 1, 6], ['1', 0, 0], ['8', 0, 0], ['9', 0, 0], [']', 1, 2], ['.', 2, 7], [']', 2, 1], ['“', 1, 6], ['S', 0, 0], ['c', 1, 27], ['a', 1, 47], [' ', 1, 22], ['r', 1, 39], ['u', 1, 6], ['p', 1, 62], ['s', 1, 58], ['t', 2, 56], ['o', 1, 17], ['h', 2, 5], ['d', 1, 19], ['b', 1, 4], ['e', 1, 46], ['n', 0, 0], ['e', 1, 5], ['f', 0, 0], ['e', 1, 1], ['t', 1, 33], ['d', 1, 3], [' ', 1, 43], ['I', 0, 0], ['s', 1, 2], ['w', 1, 21], ['m', 1, 4], ['n', 1, 4], ['k', 0, 0], ['n', 1, 42], ['h', 2, 29], ['u', 1, 37], ['e', 1, 15], ['i', 2, 7], ['s', 2, 34], ['l', 1, 54], ['d', 2, 40], ['d', 1, 9], ['h', 2, 9], ['l', 1, 8], ['r', 2, 42], [',', 1, 7], ['g', 1, 10], ['o', 1, 8], ['i', 1, 7], ['l', 3, 33], ['y', 0, 0], ['c', 1, 11], ['t', 2, 11], ['d', 2, 24], ['a', 2, 20], ['a', 3, 53], [' ', 1, 18], ['e', 1, 18], [' ', 1, 15], ['I', 0, 0], ['a', 2, 62], ['f', 2, 13], ['n', 2, 33], ['t', 2, 6], ['m', 2, 29], ['e', 1, 5], ['g', 1, 9], ['g', 1, 17], [' ', 2, 37], ['n', 1, 52], ['n', 1, 3], [' ', 1, 22], ['o', 1, 19], ['l', 1, 8], ['.', 0, 0], ['T', 1, 6], ['r', 2, 25], [' ', 1, 2], ['w', 0, 0], ['n', 4, 5], ['s', 2, 20], ['g', 1, 19], ['s', 1, 6], ['o', 1, 6], [' ', 1, 52], ['t', 1, 5], ['u', 1, 17], ['g', 1, 11], ['e', 1, 32], [',', 0, 0], ['e', 2, 22], ['t', 1, 20], [' ', 3, 36], ['o', 1, 18], ['c', 0, 0], ['a', 1, 9], [' ', 1, 17], ['r', 2, 37], ['e', 1, 4], ['o', 1, 10], ['m', 2, 7], ['c', 1, 14], ['s', 3, 15], ['.', 7, 40], ['T', 1, 10], [' ', 2, 37], ['h', 1, 14], ['p', 1, 23], ['t', 2, 50], ['a', 3, 10], ['d', 0, 0], ['v', 0, 0], ['t', 2, 52], ['s', 1, 35], ['m', 1, 5], ['n', 1, 2], [',', 1, 7], ['r', 2, 19], ['f', 1, 17], ['i', 1, 1], [',', 1, 49], ['l', 2, 24], ['t', 2, 52], ['a', 1, 32], [' ', 1, 3], ['o', 1, 12], ['m', 1, 26], ['c', 2, 34], ['w', 2, 42], ['i', 1, 14], ['h', 1, 6], ['n', 3, 15], ['t', 1, 44], ['t', 1, 9], ['u', 0, 0], ['e', 1, 2], [' ', 1, 7], ['e', 2, 32], ['b', 1, 4], ['d', 1, 16], ['y', 0, 0], ['o', 1, 5], [' ', 1, 51], ['u', 1, 3], [' ', 1, 36], ['o', 1, 34], ['l', 1, 4], [',', 1, 14], ['a', 2, 7], ['g', 2, 27], ['e', 2, 39], ['.', 0, 0], ['I', 1, 6], ['w', 2, 63], ['n', 3, 13], ['t', 1, 4], ['a', 2, 30], [' ', 1, 27], [' ', 2, 20], ['a', 2, 51], ['g', 2, 20], ['l', 1, 9], ['e', 1, 39], ['e', 2, 12], ['v', 0, 0], ['i', 2, 5], ['g', 1, 2], ['I', 6, 20], ['s', 1, 2], ['o', 1, 7], ['l', 1, 38], [' ', 1, 24], ['j', 0, 0], ['m', 1, 5], ['p', 0, 0], ['a', 1, 5], ['t', 2, 17], ['e', 1, 15], ['i', 1, 4], ['a', 2, 39], ['f', 2, 54], [' ', 2, 15], ['o', 1, 29], ['c', 0, 0], ['a', 1, 13], [' ', 1, 30], ['a', 1, 26], ['r', 0, 0], ['d', 1, 2], ['s', 1, 9], ['.', 1, 22], ['T', 1, 10], ['d', 3, 31], ['f', 1, 10], ['i', 1, 1], ['u', 1, 24], ['t', 1, 23], ['y', 0, 0], ['i', 4, 37], ['n', 0, 0], ['r', 1, 11], ['s', 2, 47], ['g', 2, 7], ['o', 2, 39], ['u', 1, 2], ['a', 1, 22], ['i', 1, 23], ['n', 1, 7], ['h', 1, 11], [' ', 2, 48], ['b', 0, 0], ['e', 1, 23], ['m', 2, 9], ['t', 1, 4], [',', 0, 0], ['I', 1, 5], ['g', 1, 2], ['e', 1, 25], ['s', 1, 35], ['d', 1, 3], ['a', 2, 11], ['d', 1, 19], ['c', 16, 40], ['e', 3, 63], ['t', 2, 7], [' ', 1, 15], ['n', 1, 18], ['r', 1, 12], ['.', 4, 13], ['EOF', 0, 0]]"
   ]
  },
  {
   "cell_type": "code",
   "execution_count": 36,
   "metadata": {},
   "outputs": [
    {
     "data": {
      "text/plain": [
       "'The Time Machine, H(erbert) G(eorge) Wells [1898] [...] “Social triumphs, too, had been effected. I saw mankind housed in splendid shelters, gloriously clothed, and as yet I had found them engaged in no toil. There were no signs of struggle, neither social nor economical struggle. The shop, the advertisement, traffic, all that commerce which constitutes the body of our world, was gone. It was natural on that golden evening that I should jump at the idea of a social paradise. The difficulty of increasing population had been met, I guessed, and population had ceased to increase.'"
      ]
     },
     "execution_count": 36,
     "metadata": {},
     "output_type": "execute_result"
    }
   ],
   "source": [
    "decodeLZ77(m)"
   ]
  },
  {
   "cell_type": "markdown",
   "metadata": {},
   "source": [
    "# LZ78 Diccionario"
   ]
  },
  {
   "cell_type": "code",
   "execution_count": 29,
   "metadata": {},
   "outputs": [],
   "source": [
    "def decodeLZ78(m):\n",
    "    originalm = \"\"\n",
    "    dict = []\n",
    "    \n",
    "    for [pos,lit] in m:\n",
    "        \n",
    "    \n",
    "        if pos == 0:\n",
    "            originalm += lit\n",
    "            dict.append(lit)\n",
    "        else:\n",
    "            init = dict[pos-1]\n",
    "            total = init+lit\n",
    "            dict.append(total)\n",
    "            originalm += total\n",
    "    \n",
    "    return originalm"
   ]
  },
  {
   "cell_type": "code",
   "execution_count": 31,
   "metadata": {},
   "outputs": [],
   "source": [
    "m = [[0, 'T'], [0, 'h'], [0, 'e'], [0, ' '], [1, 'i'], [0, 'm'], [3, ' '], [0, 'M'], [0, 'a'], [0, 'c'], [2, 'i'], [0, 'n'], [7, 'b'], [0, 'y'], [4, 'H'], [0, '('], [3, 'r'], [0, 'b'], [17, 't'], [0, ')'], [4, 'G'], [16, 'e'], [0, 'o'], [0, 'r'], [0, 'g'], [3, ')'], [4, 'W'], [3, 'l'], [0, 'l'], [0, 's'], [4, '['], [0, '1'], [0, '8'], [0, '9'], [33, ']'], [31, '.'], [0, '.'], [37, ']'], [4, 'O'], [0, 'f'], [4, 'a'], [29, 'l'], [4, 't'], [2, 'e'], [4, 'w'], [0, 'i'], [29, 'd'], [4, 'e'], [0, 'x'], [0, 't'], [24, 'a'], [0, 'v'], [9, 'g'], [9, 'n'], [50, ' '], [50, 'h'], [3, 'o'], [24, 'i'], [3, 's'], [0, '!'], [4, 'b'], [3, 'g'], [54, ' '], [56, 'e'], [4, 'P'], [30, 'y'], [10, 'h'], [23, 'l'], [23, 'g'], [46, 's'], [50, '.'], [4, 'Y'], [59, ','], [4, 's'], [23, ' '], [46, 't'], [74, 'e'], [3, 'm'], [3, 'd'], [43, 'o'], [4, 'm'], [3, ','], [41, 'n'], [0, 'd'], [74, 'o'], [4, 'I'], [4, 'n'], [3, 'v'], [17, ' '], [50, 'a'], [29, 'k'], [79, ' '], [23, 'f'], [4, 'i'], [55, 'u'], [12, 't'], [46, 'l'], [0, '-'], [98, ' '], [0, 'E'], [49, 'p'], [17, 'i'], [6, 'e'], [96, 'a'], [29, ' '], [52, 'e'], [58, 'f'], [46, 'c'], [9, 't'], [46, 'o'], [12, '!'], [4, 'c'], [58, 'e'], [84, ' '], [0, 'I'], [37, ' '], [0, 'Y'], [23, 'u'], [41, 'r'], [7, 'g'], [23, 'i'], [12, 'g'], [80, ' '], [106, 'r'], [46, 'f'], [14, ' '], [1, 'H'], [0, 'A'], [1, '?'], [4, 'T'], [44, ' '], [3, 'x'], [0, 'p'], [102, 'm'], [3, 'n'], [50, '!'], [112, 'r'], [46, 'e'], [114, 'F'], [97, 'b'], [14, ','], [45, 'h'], [75, 'w'], [9, 's'], [4, 'g'], [3, 't'], [50, 'i'], [122, ' '], [18, 'r'], [9, 'i'], [12, '-'], [0, 'w'], [3, 'a'], [24, 'y'], [37, 'L'], [146, \"'\"], [30, ' '], [30, 'e'], [7, 'y'], [118, 'r'], [48, 'x'], [133, 'e'], [58, 'm'], [135, 't'], [83, 'y'], [2, 'o'], [152, ','], [74, 'a'], [46, 'd'], [43, 'h'], [7, 'P'], [66, 'c'], [166, 'l'], [69, 'i'], [30, 't'], [0, ','], [170, 'o'], [0, 'u'], [25, 'h'], [94, 't'], [0, \"'\"], [157, 'a'], [42, ' '], [2, 'u'], [6, 'b'], [178, 'g'], [176, ' '], [14, 'o'], [178, ' '], [0, 'k'], [12, 'o'], [152, '.'], [130, 'h'], [7, 'T'], [46, 'm'], [194, 'r'], [9, 'v'], [28, 'l'], [89, 's'], [6, 'i'], [29, 'e'], [114, 'r'], [118, 'n'], [114, 'a'], [95, 's'], [116, 'T'], [44, 'n'], [187, 's'], [147, 'l'], [105, 's'], [200, 'l'], [46, 'n'], [25, ' '], [40, 'a'], [212, 't'], [29, 'y'], [187, 'a'], [12, 'd'], [45, 'i'], [56, ' '], [11, 's'], [4, 'h'], [54, 'd'], [157, 'd'], [3, 'e'], [133, ' '], [212, ' '], [221, ' '], [50, 'r'], [118, 's'], [17, 's'], [4, 'p'], [23, 'c'], [190, 'e'], [50, 's'], [187, 'h'], [7, 'w'], [9, 'l'], [234, 'd'], [74, 'l'], [23, 'w'], [216, ' '], [118, 't'], [4, 'o'], [40, ' '], [64, ' '], [24, 'o'], [23, 'm'], [217, 'n'], [114, 'w'], [7, 'h'], [153, 'r'], [114, 'h'], [70, ' '], [30, 'l'], [46, 'p'], [162, 'r'], [157, 's'], [184, 'f'], [40, 'l'], [212, 'g'], [4, 'd'], [241, 'n'], [170, 'e'], [4, 'l'], [23, 'n'], [213, 'p'], [144, 's'], [53, 'e'], [123, 'h'], [254, 'l'], [9, 'b'], [23, 'r'], [109, 'o'], [154, '.'], [0, 'EOF']]"
   ]
  },
  {
   "cell_type": "code",
   "execution_count": 32,
   "metadata": {},
   "outputs": [
    {
     "data": {
      "text/plain": [
       "\"The Time Machine by H(erbert) G(eorge) Wells [1898] [...] Of all the wild extravagant theories! began the Psychologist. Yes, so it seemed to me, and so I never talked of it until-- Experimental verification! cried I. You are going to verify THAT? The experiment! cried Filby, who was getting brain-weary.Let's see your experiment anyhow, said the Psychologist, though it's all humbug, you know. The Time Traveller smiled round at us. Then, still smiling faintly, and with his hands deep in his trousers pockets, he walked slowly out of the room, and we heard his slippers shuffling down the long passage to his laboratory.EOF\""
      ]
     },
     "execution_count": 32,
     "metadata": {},
     "output_type": "execute_result"
    }
   ],
   "source": [
    "decodeLZ78(m)"
   ]
  },
  {
   "cell_type": "markdown",
   "metadata": {},
   "source": [
    "# LZW"
   ]
  },
  {
   "cell_type": "code",
   "execution_count": 13,
   "metadata": {},
   "outputs": [],
   "source": [
    "def decodeLZW(m,d):\n",
    "    originalm = \"\"\n",
    "    temp = \"\"\n",
    "    for elem in m:\n",
    "        if elem == 0:\n",
    "            break\n",
    "        elem = elem-1\n",
    "        if elem < len(d):\n",
    "            originalm += d[elem]\n",
    "            if temp != \"\":\n",
    "                d.append(temp+d[elem][0])\n",
    "            temp = d[elem] \n",
    "                \n",
    "        elif elem == len(d):\n",
    "            t = temp+temp[0]\n",
    "            originalm += t\n",
    "            d.append(t)\n",
    "            \n",
    "            \n",
    "    return originalm"
   ]
  },
  {
   "cell_type": "code",
   "execution_count": 39,
   "metadata": {},
   "outputs": [],
   "source": [
    "d = [' ', '!', '(', ')', ',', '.', '1', '8', '9', ':', '?', 'E', 'F', 'G', 'H', 'I', 'M', 'O', 'S', 'T', 'W', '[', ']', '_', 'a', 'b', 'c', 'd', 'e', 'f', 'g', 'h', 'i', 'k', 'l', 'm', 'n', 'o', 'p', 'r', 's', 't', 'u', 'v', 'w', 'x', 'y', 'z', '—', '“']\n",
    "m = [20, 32, 29, 1, 20, 33, 36, 53, 17, 25, 27, 32, 33, 37, 29, 5, 1, 15, 3, 29, 40, 26, 70, 42, 4, 1, 14, 69, 38, 40, 31, 29, 75, 21, 29, 35, 35, 41, 1, 22, 7, 8, 9, 8, 23, 89, 6, 97, 95, 50, 51, 29, 37, 66, 25, 31, 25, 63, 104, 26, 38, 43, 42, 1, 42, 52, 54, 56, 58, 60, 62, 64, 10, 1, 41, 38, 57, 115, 63, 31, 66, 16, 1, 34, 64, 45, 1, 37, 38, 113, 45, 32, 25, 42, 66, 142, 28, 114, 25, 34, 102, 1, 33, 113, 63, 42, 38, 114, 116, 32, 38, 86, 38, 136, 39, 29, 28, 29, 41, 42, 25, 35, 1, 38, 30, 158, 53, 21, 62, 42, 53, 19, 39, 121, 46, 6, 1, 24, 178, 47, 11, 24, 1, 13, 79, 176, 1, 35, 33, 30, 53, 174, 1, 57, 1, 132, 27, 111, 35, 147, 138, 154, 36, 105, 63, 29, 186, 51, 38, 41, 53, 45, 143, 70, 35, 168, 88, 45, 85, 87, 66, 156, 38, 231, 160, 220, 1, 30, 198, 27, 150, 40, 129, 1, 39, 33, 86, 25, 40, 41, 186, 132, 200, 35, 113, 132, 35, 60, 150, 147, 25, 1, 27, 35, 43, 216, 205, 237, 85, 42, 49, 160, 136, 41, 142, 86, 267, 39, 112, 152, 42, 11, 1, 19, 43, 39, 39, 219, 53, 47, 111, 237, 111, 37, 260, 37, 152, 37, 41, 27, 242, 39, 42, 33, 38, 103, 1, 45, 153, 32, 124, 102, 180, 37, 27, 168, 1, 52, 40, 53, 25, 294, 176, 319, 297, 1, 29, 46, 315, 86, 312, 244, 257, 63, 1, 12, 37, 31, 198, 274, 104, 322, 155, 70, 287, 257, 180, 147, 115, 70, 29, 308, 115, 66, 139, 318, 88, 213, 167, 1, 285, 173, 175, 45, 79, 28, 41, 354, 175, 225, 42, 180, 249, 326, 44, 102, 109, 125, 264, 180, 35, 47, 360, 37, 134, 163, 296, 156, 1, 290, 43, 282, 84, 86, 354, 387, 116, 128, 40, 147, 28, 25, 382, 202, 36, 382, 44, 33, 41, 153, 234, 143, 307, 25, 88, 272, 196, 364, 40, 209, 362, 335, 33, 31, 32, 113, 15, 43, 294, 319, 295, 147, 20, 364, 54, 160, 43, 41, 321, 147, 19, 29, 375, 296, 427, 429, 166, 1, 439, 1, 18, 64, 244, 319, 220, 37, 347, 280, 220, 35, 175, 388, 57, 2, 1, 100, 142, 113, 401, 47, 231, 38, 233, 267, 358, 320, 237, 242, 102, 28, 49, 202, 261, 125, 40, 42, 251, 113, 142, 286, 102, 447, 115, 143, 104, 88, 132, 222, 227, 143, 61, 243, 125, 204, 202, 349, 197, 153, 42, 225, 244, 29, 38, 39, 510, 26, 143, 121, 31, 325, 483, 275, 35, 163, 395, 201, 461, 52, 36, 413, 88, 220, 33, 48, 447, 352, 310, 300, 25, 36, 39, 448, 322, 72, 106, 296, 28, 242, 30, 303, 337, 1, 28, 386, 169, 319, 539, 217, 116, 213, 334, 27, 43, 40, 319, 456, 1, 40, 321, 567, 517, 70, 124, 308, 549, 381, 66, 26, 279, 211, 114, 472, 124, 42, 40, 305, 338, 382, 30, 195, 442, 151, 261, 36, 38, 167, 568, 180, 573, 56, 57, 40, 6, 0]"
   ]
  },
  {
   "cell_type": "code",
   "execution_count": 40,
   "metadata": {},
   "outputs": [
    {
     "data": {
      "text/plain": [
       "'The Time Machine, H(erbert) G(eorge) Wells [1898] [...] “Then, again, about the Time Machine: something, I knew not what, had taken it into the hollow pedestal of the White Sphinx. _Why?_ For the life of me I could not imagine. Those waterless wells, too, those flickering pillars. I felt I lacked a clue. I felt—how shall I put it? Suppose you found an inscription, with sentences here and there in excellent plain English, and interpolated therewith, others made up of words, of letters even, absolutely unknown to you? Well, on the third day of my visit, that was how the world of Eight Hundred and Two Thousand Seven Hundred and One presented itself to me! “That day, too, I made a friend—of a sort. It happened that, as I was watching some of the little people bathing in a shallow, one of them was seized with cramp and began drifting downstream. The main current ran rather swiftly, but not too strongly for even a moderate swimmer.'"
      ]
     },
     "execution_count": 40,
     "metadata": {},
     "output_type": "execute_result"
    }
   ],
   "source": [
    "#print(d,len(d))\n",
    "#for elem in m:\n",
    "#    print(d[elem-1])\n",
    "decodeLZW(m,d)\n",
    "\n"
   ]
  }
 ],
 "metadata": {
  "kernelspec": {
   "display_name": "Python 3",
   "language": "python",
   "name": "python3"
  },
  "language_info": {
   "codemirror_mode": {
    "name": "ipython",
    "version": 3
   },
   "file_extension": ".py",
   "mimetype": "text/x-python",
   "name": "python",
   "nbconvert_exporter": "python",
   "pygments_lexer": "ipython3",
   "version": "3.8.10"
  }
 },
 "nbformat": 4,
 "nbformat_minor": 1
}
